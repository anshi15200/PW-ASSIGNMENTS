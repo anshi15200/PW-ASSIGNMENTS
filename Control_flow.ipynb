{
 "cells": [
  {
   "cell_type": "markdown",
   "id": "8f131327-5108-4e0e-bc57-240a12177970",
   "metadata": {},
   "source": [
    "Basic If-Else Statements:"
   ]
  },
  {
   "cell_type": "markdown",
   "id": "77b8c831-17ac-4063-ac8d-a2935c44adb6",
   "metadata": {},
   "source": [
    "1. Write a Python program to check if a given number is positive or negative."
   ]
  },
  {
   "cell_type": "code",
   "execution_count": 4,
   "id": "5a38ca31-fee0-4229-b288-02d6c8e3623e",
   "metadata": {},
   "outputs": [
    {
     "name": "stdin",
     "output_type": "stream",
     "text": [
      "Enter the number: 20\n"
     ]
    },
    {
     "name": "stdout",
     "output_type": "stream",
     "text": [
      "The number is positive:\n"
     ]
    }
   ],
   "source": [
    "number = float(input(\"Enter the number:\"))\n",
    "\n",
    "if number > 0:\n",
    "    print(\"The number is positive:\")\n",
    "else:\n",
    "    print(\"The number is negative:\")"
   ]
  },
  {
   "cell_type": "markdown",
   "id": "c3752457-a8f7-4aed-8335-b8990f07d3a4",
   "metadata": {},
   "source": [
    "2. Create a program that determines if a person is eligible to vote based on their age."
   ]
  },
  {
   "cell_type": "code",
   "execution_count": 3,
   "id": "84bf71ad-71ec-41fb-8100-6e79c6b159fa",
   "metadata": {},
   "outputs": [
    {
     "name": "stdin",
     "output_type": "stream",
     "text": [
      "Enter the age: 25\n"
     ]
    },
    {
     "name": "stdout",
     "output_type": "stream",
     "text": [
      "person is eligible to vote:\n"
     ]
    }
   ],
   "source": [
    "age = int(input(\"Enter the age:\"))\n",
    "\n",
    "if age >= 0:\n",
    "    print(\"person is eligible to vote:\")\n",
    "else:\n",
    "    print(\"person is not eligible to vote:\")"
   ]
  },
  {
   "cell_type": "markdown",
   "id": "8845323d-fb45-4a44-9c6b-953a2f834fe8",
   "metadata": {},
   "source": [
    "3. Develop a program to find the maximum of two numbers using if-else statements."
   ]
  },
  {
   "cell_type": "code",
   "execution_count": 5,
   "id": "74b6ae4d-535a-4adc-a9eb-50ca28f24d1e",
   "metadata": {},
   "outputs": [
    {
     "name": "stdin",
     "output_type": "stream",
     "text": [
      "Enter first number 20\n",
      "Enter second number 15\n"
     ]
    },
    {
     "name": "stdout",
     "output_type": "stream",
     "text": [
      "the maximum number is: 20\n"
     ]
    }
   ],
   "source": [
    "num1 = int(input(\"Enter first number\"))\n",
    "num2 = int(input(\"Enter second number\"))\n",
    "\n",
    "if num1 > num2:\n",
    "    max_num = num1\n",
    "else:\n",
    "    max_num = num2\n",
    "print(\"the maximum number is:\", max_num)"
   ]
  },
  {
   "cell_type": "markdown",
   "id": "fbf3cb38-bcee-47df-9d48-28f9b934ad5c",
   "metadata": {},
   "source": [
    "4. Write a Python script to classify a given year as a leap year or not."
   ]
  },
  {
   "cell_type": "code",
   "execution_count": 7,
   "id": "9f72be5d-93b3-42e9-9541-a55d7b4b91ee",
   "metadata": {},
   "outputs": [
    {
     "name": "stdin",
     "output_type": "stream",
     "text": [
      "Enter a year: 42\n"
     ]
    },
    {
     "name": "stdout",
     "output_type": "stream",
     "text": [
      "42 is not a leap year.\n"
     ]
    }
   ],
   "source": [
    "year = int(input(\"Enter a year:\"))\n",
    "\n",
    "if (year % 400 == 0):\n",
    "    print(f\"{year} is a leap year:\")\n",
    "else:\n",
    "    print(f\"{year} is not a leap year.\")"
   ]
  },
  {
   "cell_type": "markdown",
   "id": "7fa9db09-42f6-4cf7-aacc-e71dd7b4e1d5",
   "metadata": {},
   "source": [
    "5. Create a program that checks whether a character is a vowel or a consonant."
   ]
  },
  {
   "cell_type": "code",
   "execution_count": 8,
   "id": "53d7ce8c-8a48-4426-8130-e73b7e7f48a9",
   "metadata": {},
   "outputs": [
    {
     "name": "stdin",
     "output_type": "stream",
     "text": [
      "Enter a character: a\n"
     ]
    },
    {
     "name": "stdout",
     "output_type": "stream",
     "text": [
      "a is a vowel.\n"
     ]
    }
   ],
   "source": [
    "char = input(\"Enter a character:\")\n",
    "\n",
    "char = char.lower()\n",
    "\n",
    "if char.isalpha():\n",
    "    if char in 'aeiou':\n",
    "        print(f\"{char} is a vowel.\")\n",
    "    else:\n",
    "        print(f\"{char} is a consonant.\")\n",
    "else:\n",
    "    print(f\"Please enter a valid alphabetic character.\")"
   ]
  },
  {
   "cell_type": "markdown",
   "id": "6bb7b3f6-fafc-4009-a9dd-f4b090915e66",
   "metadata": {},
   "source": [
    "6. Implement a program to determine whether a given number is even or odd."
   ]
  },
  {
   "cell_type": "code",
   "execution_count": 9,
   "id": "da962601-4108-4295-b20f-42c13b7ede06",
   "metadata": {},
   "outputs": [
    {
     "name": "stdin",
     "output_type": "stream",
     "text": [
      "Enter a number. 20\n"
     ]
    },
    {
     "name": "stdout",
     "output_type": "stream",
     "text": [
      "20 is even.\n"
     ]
    }
   ],
   "source": [
    "number = int(input(\"Enter a number.\"))\n",
    "\n",
    "if number % 2 == 0:\n",
    "    print(f\"{number} is even.\")\n",
    "else:\n",
    "    print(f\"{number} is odd.\")"
   ]
  },
  {
   "cell_type": "markdown",
   "id": "a88ee3f1-e5f1-4249-be6c-b1d70a98cb49",
   "metadata": {},
   "source": [
    "7. Write a Python function to calculate the absolute value of a number without using the `abs()` function."
   ]
  },
  {
   "cell_type": "code",
   "execution_count": 10,
   "id": "5f40e497-095b-42f0-9c54-c6c29d67d1f1",
   "metadata": {},
   "outputs": [
    {
     "name": "stdout",
     "output_type": "stream",
     "text": [
      "The absolute value of 20 is 20\n"
     ]
    }
   ],
   "source": [
    "def custom_abs(number):\n",
    "    if number < 0:\n",
    "        return -number\n",
    "    else:\n",
    "        return number\n",
    "    \n",
    "    num = -5\n",
    "\n",
    "absolute_value = custom_abs(number)\n",
    "print(f\"The absolute value of {number} is {absolute_value}\")"
   ]
  },
  {
   "cell_type": "markdown",
   "id": "4c57dcfa-c3cc-416b-a5d8-06a724507e10",
   "metadata": {},
   "source": [
    "8. Develop a program that determines the largest of three given numbers using if-else statements."
   ]
  },
  {
   "cell_type": "code",
   "execution_count": 11,
   "id": "175dcbf7-d91e-40c0-bf83-6f44cce7c377",
   "metadata": {},
   "outputs": [
    {
     "name": "stdin",
     "output_type": "stream",
     "text": [
      "Enter the first number: 30\n",
      "Enter the second number: 20\n",
      "Enter the third number: 10\n"
     ]
    },
    {
     "name": "stdout",
     "output_type": "stream",
     "text": [
      "The largest number among 30.0, 20.0, and 10.0 is 30.0\n"
     ]
    }
   ],
   "source": [
    "num1 = float(input(\"Enter the first number:\"))\n",
    "num2 = float(input(\"Enter the second number:\"))\n",
    "num3 = float(input(\"Enter the third number:\"))\n",
    "\n",
    "if num1 >= num2 and num1 >= num3:\n",
    "    largest_num = num1\n",
    "elif num2 >= num1 and num2 >= num3:\n",
    "    largest_num = num2\n",
    "else:\n",
    "    largest_num = num3\n",
    "\n",
    "print(f\"The largest number among {num1}, {num2}, and {num3} is {largest_num}\")"
   ]
  },
  {
   "cell_type": "markdown",
   "id": "47ccbf73-bc06-4df5-998c-2495386ce214",
   "metadata": {},
   "source": [
    "9. Create a program that checks if a given string is a palindrome."
   ]
  },
  {
   "cell_type": "code",
   "execution_count": 15,
   "id": "4fbc999d-b506-4113-8f2a-24704184e4ab",
   "metadata": {},
   "outputs": [
    {
     "name": "stdin",
     "output_type": "stream",
     "text": [
      "Enter a string: xox\n"
     ]
    },
    {
     "name": "stdout",
     "output_type": "stream",
     "text": [
      "'xox' is a polindrome.\n"
     ]
    }
   ],
   "source": [
    "def is_polindrome(string):\n",
    "    \n",
    "    cleaned_string = ' '.join(string.split()).lower()\n",
    "    \n",
    "    return cleaned_string == cleaned_string[::-1]\n",
    "\n",
    "user_input = input(\"Enter a string:\")\n",
    "\n",
    "\n",
    "if is_polindrome(user_input):\n",
    "    print(f\"'{user_input}' is a polindrome.\")\n",
    "else:\n",
    "    print(f\"'{user_input}' is not a polindrome.\")"
   ]
  },
  {
   "cell_type": "markdown",
   "id": "d4a8339d-3a5a-4209-9b42-bca9e7dc08a8",
   "metadata": {},
   "source": [
    "10. Write a Python program to calculate the grade based on a student's score."
   ]
  },
  {
   "cell_type": "code",
   "execution_count": 16,
   "id": "c80065e1-dccf-421b-bf24-9e22e00faaf4",
   "metadata": {},
   "outputs": [
    {
     "name": "stdin",
     "output_type": "stream",
     "text": [
      "Enter the student's score 86\n"
     ]
    },
    {
     "name": "stdout",
     "output_type": "stream",
     "text": [
      "The student's grade is: B\n"
     ]
    }
   ],
   "source": [
    "score = float(input(\"Enter the student's score\"))\n",
    "\n",
    "\n",
    "if score >= 90:\n",
    "    grade = 'A'\n",
    "elif score >= 80:\n",
    "    grade = 'B'\n",
    "elif score >= 70:\n",
    "    grade = 'C'\n",
    "elif score >= 60:\n",
    "    grade = 'D'\n",
    "else:\n",
    "    grade = 'F'\n",
    "    \n",
    "    \n",
    "print(f\"The student's grade is: {grade}\")"
   ]
  },
  {
   "cell_type": "code",
   "execution_count": null,
   "id": "5b683266-1f1b-4f42-aefd-93416e283a92",
   "metadata": {},
   "outputs": [],
   "source": []
  },
  {
   "cell_type": "markdown",
   "id": "95af18fa-facb-4021-a255-e9631be51080",
   "metadata": {},
   "source": [
    "Nested If-Else Statements:"
   ]
  },
  {
   "cell_type": "markdown",
   "id": "39dc60d9-69b3-445f-b337-736613327722",
   "metadata": {},
   "source": [
    "11. Write a program to find the largest among three numbers using nested if-else statements."
   ]
  },
  {
   "cell_type": "code",
   "execution_count": 17,
   "id": "7d38a09c-aa73-44a6-b733-eb3b8a128d64",
   "metadata": {},
   "outputs": [
    {
     "name": "stdin",
     "output_type": "stream",
     "text": [
      "Enter the first number: 66\n",
      "Enter the second number: 76\n",
      "Enter the third number: 56\n"
     ]
    },
    {
     "name": "stdout",
     "output_type": "stream",
     "text": [
      "The largest number among 66, 76, and 56 is 76:\n"
     ]
    }
   ],
   "source": [
    "num1 = int(input(\"Enter the first number:\"))\n",
    "num2 = int(input(\"Enter the second number:\"))\n",
    "num3 = int(input(\"Enter the third number:\"))\n",
    "\n",
    "if num1 >= num2:\n",
    "    if num1 >= num3:\n",
    "        largest = num1\n",
    "    else:\n",
    "        largest = num3\n",
    "else:\n",
    "    if num2 >= num3:\n",
    "        largest = num2\n",
    "    else:\n",
    "        largest = num3\n",
    "        \n",
    "\n",
    "print(f\"The largest number among {num1}, {num2}, and {num3} is {largest}:\")"
   ]
  },
  {
   "cell_type": "markdown",
   "id": "73897eba-5a32-4bd6-8a2b-41cbed1fe7e3",
   "metadata": {},
   "source": [
    "12. Implement a program to determine if a triangle is equilateral, isosceles, or scalene."
   ]
  },
  {
   "cell_type": "code",
   "execution_count": 18,
   "id": "0b5a25f0-3035-48c4-9bb2-d90bc3400697",
   "metadata": {},
   "outputs": [
    {
     "name": "stdin",
     "output_type": "stream",
     "text": [
      "Enter the length of the first side: 60\n",
      "Enter the length of the second side: 60\n",
      "Enter the length of the third side: 60\n"
     ]
    },
    {
     "name": "stdout",
     "output_type": "stream",
     "text": [
      "The triangle is equilateral\n"
     ]
    }
   ],
   "source": [
    "side1 = float(input(\"Enter the length of the first side:\"))\n",
    "side2 = float(input(\"Enter the length of the second side:\"))\n",
    "side3 = float(input(\"Enter the length of the third side:\"))\n",
    "\n",
    "if side1 == side2 == side3:\n",
    "    triangle_type = \"equilateral\"\n",
    "elif side1 == side2 or side1 == side3 or side2 == side3:\n",
    "    triangle_type = \"isosceles\"\n",
    "else:\n",
    "    triangle_type = \"scalene\"\n",
    "    \n",
    "    \n",
    "print(f\"The triangle is\", triangle_type)"
   ]
  },
  {
   "cell_type": "markdown",
   "id": "fa42fec2-8e91-40c2-ae57-ee9baa2c1018",
   "metadata": {},
   "source": [
    "13. Develop a program that checks if a year is a leap year and also if it is a century year."
   ]
  },
  {
   "cell_type": "code",
   "execution_count": 20,
   "id": "d7e36ce0-0a76-4737-b9a0-3edad286fed1",
   "metadata": {},
   "outputs": [
    {
     "name": "stdin",
     "output_type": "stream",
     "text": [
      "Enter a year: 2024\n"
     ]
    },
    {
     "name": "stdout",
     "output_type": "stream",
     "text": [
      "2024 is a leap year but not a century year.\n"
     ]
    }
   ],
   "source": [
    "year = int(input(\"Enter a year:\"))\n",
    "\n",
    "\n",
    "if year % 4 == 0:\n",
    "    if year % 100 == 0:\n",
    "        if year % 400 == 0:\n",
    "            print(year, \"is a leap year and a century year.\")\n",
    "        else:\n",
    "            print(year, \"is a century year but not a leapp year.\")\n",
    "    else:\n",
    "        print(year, \"is a leap year but not a century year.\")\n",
    "else:\n",
    "    print(year, \"is neither a leap year nor a century year.\")"
   ]
  },
  {
   "cell_type": "markdown",
   "id": "c1f38caa-ae6a-4159-aa6b-c62714a7cb09",
   "metadata": {},
   "source": [
    "14. Write a Python script to determine if a number is positive, negative, or zero."
   ]
  },
  {
   "cell_type": "code",
   "execution_count": 21,
   "id": "d6bb6373-4116-45f4-8e99-3a1804a77a1e",
   "metadata": {},
   "outputs": [
    {
     "name": "stdin",
     "output_type": "stream",
     "text": [
      "Enter a number: 24\n"
     ]
    },
    {
     "name": "stdout",
     "output_type": "stream",
     "text": [
      "The number is positive.\n"
     ]
    }
   ],
   "source": [
    "num = float(input(\"Enter a number:\"))\n",
    "\n",
    "\n",
    "if num > 0:\n",
    "    print(\"The number is positive.\")\n",
    "elif num < 0:\n",
    "    print(\"The number is negative:\")\n",
    "else:\n",
    "    print(\"The number is zero.\")"
   ]
  },
  {
   "cell_type": "markdown",
   "id": "af8261fc-b86f-4c98-87cb-12c154f77cbd",
   "metadata": {},
   "source": [
    "15. Create a program to check if a person is a teenager (between 13 and 19 years old)."
   ]
  },
  {
   "cell_type": "code",
   "execution_count": 22,
   "id": "21d0820c-7e17-49e2-9b49-06ac499ec423",
   "metadata": {},
   "outputs": [
    {
     "name": "stdin",
     "output_type": "stream",
     "text": [
      "Enter the person's age: 25\n"
     ]
    },
    {
     "name": "stdout",
     "output_type": "stream",
     "text": [
      "The person is not a teenager.\n"
     ]
    }
   ],
   "source": [
    "age = int(input(\"Enter the person's age:\"))\n",
    "\n",
    "\n",
    "if age >= 13:\n",
    "    if age <=19:\n",
    "        print(\"The person is a teenager.\")\n",
    "    else:\n",
    "        print(\"The person is not a teenager.\")\n",
    "else:\n",
    "    print(\"The person is not a teenager.\")"
   ]
  },
  {
   "cell_type": "markdown",
   "id": "e44ee067-8a0e-4e0c-8277-fac51616a932",
   "metadata": {},
   "source": [
    "16. Develop a program that determines the type of angle based on its measure (acute, obtuse, or right)."
   ]
  },
  {
   "cell_type": "code",
   "execution_count": 23,
   "id": "b0120946-b389-4282-a9ec-320b518c7872",
   "metadata": {},
   "outputs": [
    {
     "name": "stdin",
     "output_type": "stream",
     "text": [
      "Enter the angle measure in degrees: 90\n"
     ]
    },
    {
     "name": "stdout",
     "output_type": "stream",
     "text": [
      "The angle is right angle.\n"
     ]
    }
   ],
   "source": [
    "angle_measure = float(input(\"Enter the angle measure in degrees:\"))\n",
    "\n",
    "\n",
    "if angle_measure < 90:\n",
    "    print(\"The angle is acute.\")\n",
    "elif angle_measure == 90:\n",
    "    print(\"The angle is right angle.\")\n",
    "elif angle_measure > 90 and angle_measure < 180:\n",
    "    print(\"The angle isobtuse,\")\n",
    "else:\n",
    "    print(\"The angle is neither acute, obtuse, norright,\")"
   ]
  },
  {
   "cell_type": "markdown",
   "id": "31b7ca07-3085-462d-a655-d91ecdbf179e",
   "metadata": {},
   "source": [
    "17. Write a Python program to calculate the roots of a quadratic equation."
   ]
  },
  {
   "cell_type": "code",
   "execution_count": 2,
   "id": "20210214-d2be-4f5f-8c5e-b52d1fa849c8",
   "metadata": {},
   "outputs": [
    {
     "name": "stdout",
     "output_type": "stream",
     "text": [
      "Equation: ax^2 + bx + c \n"
     ]
    },
    {
     "name": "stdin",
     "output_type": "stream",
     "text": [
      "Enter a:  1\n",
      "Enter b:  3\n",
      "Enter c:  2\n"
     ]
    },
    {
     "name": "stdout",
     "output_type": "stream",
     "text": [
      "The first root:  -1.0\n",
      "The second root:  -2.0\n"
     ]
    }
   ],
   "source": [
    "print(\"Equation: ax^2 + bx + c \")\n",
    "a=int(input(\"Enter a: \"))\n",
    "b=int(input(\"Enter b: \"))\n",
    "c=int(input(\"Enter c: \"))\n",
    "d=b**2-4*a*c\n",
    "d1=d**0.5\n",
    "if(d<0):\n",
    "    print(\"The roots are imaginary. \")\n",
    "else:\n",
    "    r1=(-b+d1)/2*a\n",
    "    r2=(-b-d1)/2*a\n",
    "    print(\"The first root: \",round(r1,2))\n",
    "    print(\"The second root: \",round(r2,2))"
   ]
  },
  {
   "cell_type": "markdown",
   "id": "63aa5005-ba76-40b9-af78-09795ac0ca5d",
   "metadata": {},
   "source": [
    "18. Implement a program to determine the day of the week based on a user-provided number (1 for Monday, 2\n",
    "for Tuesday, etc.)."
   ]
  },
  {
   "cell_type": "code",
   "execution_count": 3,
   "id": "94d61f2d-055f-48e8-8dc5-613fb630a00c",
   "metadata": {},
   "outputs": [
    {
     "name": "stdin",
     "output_type": "stream",
     "text": [
      "Enter a number (1-7) to determine the day of the week: 6\n"
     ]
    },
    {
     "name": "stdout",
     "output_type": "stream",
     "text": [
      "The day of the week for number 6 is friday.\n"
     ]
    }
   ],
   "source": [
    "day_number = int(input(\"Enter a number (1-7) to determine the day of the week:\"))\n",
    "\n",
    "\n",
    "if day_number == 1:\n",
    "    day = 'sunday'\n",
    "elif day_number == 2:\n",
    "    day = 'monday'\n",
    "elif day_number == 3:\n",
    "    day = 'tuesday'\n",
    "elif day_number == 4:\n",
    "    day = 'wednessday'\n",
    "elif day_number == 5:\n",
    "    day = 'thurseday'\n",
    "elif day_number == 6:\n",
    "    day = 'friday'\n",
    "elif day_number == 7:\n",
    "    day = 'saturday'\n",
    "else:\n",
    "    day = \"Invalid input. please enter a number between 1 and 7.\"\n",
    "    \n",
    "print(f\"The day of the week for number {day_number} is {day}.\")"
   ]
  },
  {
   "cell_type": "markdown",
   "id": "ab5f23d3-66c2-4bc6-9175-29d362907f34",
   "metadata": {},
   "source": [
    "19. Create a program that determines if a year is a leap year and also if it is evenly divisible by 400."
   ]
  },
  {
   "cell_type": "code",
   "execution_count": 4,
   "id": "597caff7-4597-4ff1-a39d-9ab4a7309c56",
   "metadata": {},
   "outputs": [
    {
     "name": "stdin",
     "output_type": "stream",
     "text": [
      "Enter a year. 1998\n"
     ]
    },
    {
     "name": "stdout",
     "output_type": "stream",
     "text": [
      "1998 is a not leap year.\n"
     ]
    }
   ],
   "source": [
    "year = int(input(\"Enter a year.\"))\n",
    "\n",
    "if year % 4 == 0:\n",
    "    if year % 100 == 0:\n",
    "        if year % 400 == 0:\n",
    "            is_leap_year = True\n",
    "        else:\n",
    "            is_leap_year = False\n",
    "    else:\n",
    "        is_leap_year = True\n",
    "else:\n",
    "    is_leap_year = False\n",
    "    \n",
    "    \n",
    "if is_leap_year:\n",
    "    print(f\"{year} is a leap year.\")\n",
    "else:\n",
    "    print(f\"{year} is a not leap year.\")"
   ]
  },
  {
   "cell_type": "markdown",
   "id": "e362ae43-b926-4e96-9138-213855e16e6d",
   "metadata": {},
   "source": [
    "20. Develop a program that checks if a given number is prime or not using nested if-else statements."
   ]
  },
  {
   "cell_type": "code",
   "execution_count": 5,
   "id": "2414518f-2d29-42fe-aca3-46b2355eca12",
   "metadata": {},
   "outputs": [
    {
     "name": "stdin",
     "output_type": "stream",
     "text": [
      "Enter a number. 78\n"
     ]
    },
    {
     "name": "stdout",
     "output_type": "stream",
     "text": [
      "78 is not a prime number.\n"
     ]
    }
   ],
   "source": [
    "num = int(input(\"Enter a number.\"))\n",
    "\n",
    "if num < 2:\n",
    "    is_prime = False\n",
    "else:\n",
    "    is_prime = True\n",
    "    \n",
    "    for i in range(2, int(num**0.5) + 1):\n",
    "        if num % 1 == 0:\n",
    "            is_prime = False\n",
    "            break\n",
    "            \n",
    "if is_prime:\n",
    "    print(f\"{num} is a prime number.\")\n",
    "else:\n",
    "    print(f\"{num} is not a prime number.\")"
   ]
  },
  {
   "cell_type": "markdown",
   "id": "11e84b16-5850-4480-950d-207c137ebda4",
   "metadata": {},
   "source": [
    "Elif Statements:"
   ]
  },
  {
   "cell_type": "markdown",
   "id": "2bae1d6e-f990-4888-9f13-138046f16cb5",
   "metadata": {},
   "source": [
    "21. Write a Python program to assign grades based on different ranges of scores using elif statements."
   ]
  },
  {
   "cell_type": "code",
   "execution_count": 7,
   "id": "55f5807a-c833-4d55-9f51-a845f17c074c",
   "metadata": {},
   "outputs": [
    {
     "name": "stdin",
     "output_type": "stream",
     "text": [
      "Enter the student's score: 70\n"
     ]
    },
    {
     "name": "stdout",
     "output_type": "stream",
     "text": [
      "The sudent's grade is:C\n"
     ]
    }
   ],
   "source": [
    "score = float(input(\"Enter the student's score:\"))\n",
    "\n",
    "if score >= 90:\n",
    "    grade = 'A'\n",
    "elif score >= 80:\n",
    "    grade = 'B'\n",
    "elif score >= 70:\n",
    "    grade = 'C'\n",
    "elif score >= 60:\n",
    "    grade = 'D'\n",
    "else:\n",
    "    grade = 'F'\n",
    "    \n",
    "print(f\"The sudent's grade is:{grade}\")"
   ]
  },
  {
   "cell_type": "markdown",
   "id": "2980077a-d359-43a7-94c7-b4b214a219ea",
   "metadata": {},
   "source": [
    "22. Implement a program to determine the type of a triangle based on its angles."
   ]
  },
  {
   "cell_type": "code",
   "execution_count": 10,
   "id": "17a0e142-4ed3-455c-8502-09b68ef32e84",
   "metadata": {},
   "outputs": [
    {
     "name": "stdin",
     "output_type": "stream",
     "text": [
      "Enter the first angle. 90\n",
      "Enter the second angle. 60\n",
      "Enter the third angle. 30\n"
     ]
    },
    {
     "name": "stdout",
     "output_type": "stream",
     "text": [
      "The triangle is a Right-angled triangle.\n"
     ]
    }
   ],
   "source": [
    "angle1 = float(input(\"Enter the first angle.\"))\n",
    "angle2 = float(input(\"Enter the second angle.\"))\n",
    "angle3 = float(input(\"Enter the third angle.\"))\n",
    "\n",
    "\n",
    "angle_sum = angle1 + angle2 + angle3\n",
    "\n",
    "if angle_sum != 180:\n",
    "    triangle_type = \"Invalid triangle (sum of angle)\"\n",
    "elif angle1 == 90 or angle2 == 90 or angle3 == 90:\n",
    "    triangle_type = \"Right-angled triangle\"\n",
    "elif angle1 > 90 or angle2 > 90 or angle3 > 90:\n",
    "    triangle_type = \"Obtuse-angled triangle\"\n",
    "else:\n",
    "    triangle_type = \"Acute-angled triangle\"\n",
    "    \n",
    "print(f\"The triangle is a {triangle_type}.\")"
   ]
  },
  {
   "cell_type": "markdown",
   "id": "f067ceb7-7801-4ff5-a8df-d17d5211851f",
   "metadata": {},
   "source": [
    "23. Develop a program to categorize a given person's BMI into underweight, normal, overweight, or obese using\n",
    "elif statements."
   ]
  },
  {
   "cell_type": "code",
   "execution_count": 11,
   "id": "88e08871-af40-4319-953f-255c4fe03461",
   "metadata": {},
   "outputs": [
    {
     "name": "stdin",
     "output_type": "stream",
     "text": [
      "Enter your height. 107\n",
      "Enter your weight. 65\n"
     ]
    },
    {
     "name": "stdout",
     "output_type": "stream",
     "text": [
      "Your BMI is  Underweight\n"
     ]
    }
   ],
   "source": [
    "height = float(input(\"Enter your height.\"))\n",
    "weight = float(input(\"Enter your weight.\"))\n",
    "\n",
    "bmi = weight / (height ** 2)\n",
    "\n",
    "if bmi < 18.5:\n",
    "    category = 'Underweight'\n",
    "elif 18.5 <= bmi < 24.9:\n",
    "    category = 'Noermal weight'\n",
    "elif 25 <= bmi < 29.9:\n",
    "    category = 'Overweight'\n",
    "else:\n",
    "    category = 'Obese'\n",
    "    \n",
    "print(f\"Your BMI is \", category) "
   ]
  },
  {
   "cell_type": "markdown",
   "id": "243f1a89-bbea-4a38-aa65-58a2755bc2bc",
   "metadata": {},
   "source": [
    "24. Create a program that determines whether a given number is positive, negative, or zero using elif\n",
    "statements."
   ]
  },
  {
   "cell_type": "code",
   "execution_count": 12,
   "id": "cf4bed14-a063-40b3-a71f-2f37cd1ae711",
   "metadata": {},
   "outputs": [
    {
     "name": "stdin",
     "output_type": "stream",
     "text": [
      "enter a number. -23\n"
     ]
    },
    {
     "name": "stdout",
     "output_type": "stream",
     "text": [
      "number is negative.\n"
     ]
    }
   ],
   "source": [
    "number = int(input(\"enter a number.\"))\n",
    "\n",
    "if number > 0:\n",
    "    print(f\"number is possitive.\")\n",
    "elif number == 0:\n",
    "    print(f\"zero\")\n",
    "else:\n",
    "    print(f\"number is negative.\")"
   ]
  },
  {
   "cell_type": "markdown",
   "id": "1ae0bd18-bf3c-4652-910a-fa4b735b0318",
   "metadata": {},
   "source": [
    "25. Write a Python script to determine the type of a character (uppercase, lowercase, or special) using elif\n",
    "statements."
   ]
  },
  {
   "cell_type": "code",
   "execution_count": 17,
   "id": "85207a2e-1278-4c8f-9249-bbf50c018134",
   "metadata": {},
   "outputs": [
    {
     "name": "stdin",
     "output_type": "stream",
     "text": [
      "enter a character. naitik\n"
     ]
    },
    {
     "name": "stdout",
     "output_type": "stream",
     "text": [
      "naitik is a lowercase letter.\n"
     ]
    }
   ],
   "source": [
    "char = input(\"enter a character.\")\n",
    "\n",
    "if char.isupper():\n",
    "    print(f\"{char} is an uppercase letter.\")\n",
    "elif char.islower():\n",
    "    print(f\"{char} is a lowercase letter.\")\n",
    "else:\n",
    "    print(f\"{char} is a special letter.\")\n",
    "    "
   ]
  },
  {
   "cell_type": "markdown",
   "id": "c97cc783-debd-4157-b494-1736bdb12bad",
   "metadata": {},
   "source": [
    "26. Implement a program to calculate the discounted price based on different purchase amounts using elif\n",
    "statements."
   ]
  },
  {
   "cell_type": "code",
   "execution_count": 24,
   "id": "4f84458b-8c7b-4ea0-95a7-4ac5db8abb3e",
   "metadata": {},
   "outputs": [
    {
     "name": "stdin",
     "output_type": "stream",
     "text": [
      "enter the purchase amount: 20\n"
     ]
    },
    {
     "name": "stdout",
     "output_type": "stream",
     "text": [
      "Original price: $ 20.00\n",
      "Discount Rate: 2.0%\n",
      "Discounted Price: $0.00\n"
     ]
    }
   ],
   "source": [
    "purchase_amount = float(input(\"enter the purchase amount:\"))\n",
    "\n",
    "\n",
    "discount_rate = 0.0\n",
    "discounted_price = 0.0\n",
    "\n",
    "if purchase_amount >= 100:\n",
    "    discount_rate = 0.1\n",
    "elif purchase_amount >= 50:\n",
    "    discount_rate = 0.05\n",
    "else:\n",
    "    purchase_amount >= 20\n",
    "    discount_rate = 0.02\n",
    "    \n",
    "dicounted_price = purchase_amount - (purchase_amount * discount_rate)\n",
    "\n",
    "\n",
    "print(f\"Original price: ${purchase_amount: .2f}\")\n",
    "print(f\"Discount Rate: {discount_rate * 100}%\")\n",
    "print(f\"Discounted Price: ${discounted_price:.2f}\")\n",
    "                              "
   ]
  },
  {
   "cell_type": "code",
   "execution_count": 22,
   "id": "f3289db3-f8db-4d06-8cb1-23727829fe5a",
   "metadata": {},
   "outputs": [
    {
     "name": "stdin",
     "output_type": "stream",
     "text": [
      "Enter purchase amount  10000\n"
     ]
    },
    {
     "name": "stdout",
     "output_type": "stream",
     "text": [
      "Discount Amount = 500.00\n",
      "Net Bill Amount = 9500.00\n"
     ]
    }
   ],
   "source": [
    "p=int(input('Enter purchase amount '))\n",
    "\n",
    "if p<=5000:\n",
    "    dis=0\n",
    "elif p>5000 and p<=10000:\n",
    "    dis=(p-5000)*(10/100.0)\n",
    "elif p>10000 and p<=20000:\n",
    "    dis=(p-10000)*(20/100.0)\n",
    "elif p>20000 and p<=30000:\n",
    "    dis=(p-20000)*(30/100.0)\n",
    "else:\n",
    "    dis=(p-30000)*(40/100.0)\n",
    "\n",
    "print('Discount Amount = {:.2f}'.format(dis))\n",
    "print('Net Bill Amount = {:.2f}'.format(p-dis))"
   ]
  },
  {
   "cell_type": "markdown",
   "id": "6d5350f6-dbad-4c32-a291-da0eebe3ae51",
   "metadata": {},
   "source": [
    "27. Develop a program to calculate the electricity bill based on different consumption slabs using elif\n",
    "statements."
   ]
  },
  {
   "cell_type": "code",
   "execution_count": 1,
   "id": "55e23c35-fd71-4be4-a69a-37797ac47dc1",
   "metadata": {},
   "outputs": [
    {
     "name": "stdin",
     "output_type": "stream",
     "text": [
      "Enter the electricity consumption in kwh: 1000\n"
     ]
    },
    {
     "name": "stdout",
     "output_type": "stream",
     "text": [
      "Electricity Consumption: 1000.0 kwh\n",
      "Rate Per Kwh: $0.25\n",
      "Total Bill: $220.00\n"
     ]
    }
   ],
   "source": [
    "consumption = float(input(\"Enter the electricity consumption in kwh:\"))\n",
    "\n",
    "\n",
    "bill = 0\n",
    "rate_per_kwh = 0\n",
    "\n",
    "if consumption <=100:\n",
    "    rate-per_kwh == 0.10\n",
    "    bill = consumption * rate_per_kwh\n",
    "elif consumption <= 200:\n",
    "    rate_per_kwh == 0.15\n",
    "    bill = 100 * 0.10 + (consumption - 100) *rate_per_kwh\n",
    "elif consumption <= 300:\n",
    "    rate_per_kwh == 0.20\n",
    "    bill = 100 * 0.10 + 100 * 0.15 + (consumption - 200) * rate_per_kwh\n",
    "else:\n",
    "    rate_per_kwh = 0.25\n",
    "    bill = 100 * 0.10 + 100 * 0.15 + 100 * 0.20 + (consumption - 300) * rate_per_kwh\n",
    "    \n",
    "    \n",
    "print(f\"Electricity Consumption: {consumption} kwh\")\n",
    "print(f\"Rate Per Kwh: ${rate_per_kwh:.2f}\")\n",
    "print(f\"Total Bill: ${bill:.2f}\")"
   ]
  },
  {
   "cell_type": "markdown",
   "id": "5159028c-62c1-468b-94ad-b8463d592746",
   "metadata": {},
   "source": [
    "28. Create a program to determine the type of quadrilateral based on its angles and sides using elif\n",
    "statements."
   ]
  },
  {
   "cell_type": "code",
   "execution_count": 4,
   "id": "d7820fa5-a91e-49e0-815b-7d44a5315df1",
   "metadata": {},
   "outputs": [
    {
     "name": "stdin",
     "output_type": "stream",
     "text": [
      "enter the 1st angle: 90\n",
      "enter the 2nd angle: 90\n",
      "enter the 3rd angle: 90\n",
      "enter the 4th angle: 90\n",
      "enter the length of 1st side: 30\n",
      "enter the length of 2nd side: 30\n",
      "enter the length of 3rd side: 30\n",
      "enter the length of 4th side: 30\n"
     ]
    },
    {
     "name": "stdout",
     "output_type": "stream",
     "text": [
      "It's a square.\n"
     ]
    }
   ],
   "source": [
    "angle1 = float(input(\"enter the 1st angle:\"))\n",
    "angle2 = float(input(\"enter the 2nd angle:\"))\n",
    "angle3 = float(input(\"enter the 3rd angle:\"))\n",
    "angle4 = float(input(\"enter the 4th angle:\"))\n",
    "\n",
    "\n",
    "side1 = float(input(\"enter the length of 1st side:\"))\n",
    "side2 = float(input(\"enter the length of 2nd side:\"))\n",
    "side3 = float(input(\"enter the length of 3rd side:\"))\n",
    "side4 = float(input(\"enter the length of 4th side:\"))\n",
    "\n",
    "\n",
    "if angle1 == angle2 == angle3 == angle4 == 90:\n",
    "    print(\"It's a square.\")\n",
    "elif angle1 == angle2 == angle3 == angle4:\n",
    "    print(\"It's a rectangle.\")\n",
    "elif side1 == side2 == side3 == side4:\n",
    "    print(\"It's a rhombus.\")\n",
    "elif (angle1 + angle2 + angle3 + angle4 == 360) and (side1 == side2 == side3 == side4):\n",
    "    print(\"It's a parallelogram.\")\n",
    "elif (angle1 + angle2 + angle3 + angle4 == 360) and ((side1 == side3 and side2 == side4) or (side1 == side2 and side3 == side4)):\n",
    "    print(\"It's a kite.\")\n",
    "else:\n",
    "    print(\"It's a generalquadrilateral.\")"
   ]
  },
  {
   "cell_type": "markdown",
   "id": "d3ebc1cb-a014-4f92-b392-8bcee1ea67a2",
   "metadata": {},
   "source": [
    "29. Write a Python script to determine the season based on a user-provided month using elif statements."
   ]
  },
  {
   "cell_type": "code",
   "execution_count": 6,
   "id": "72aa89a6-8ec6-4f7f-8697-d52de0e2efb8",
   "metadata": {},
   "outputs": [
    {
     "name": "stdin",
     "output_type": "stream",
     "text": [
      "enter a month. november\n"
     ]
    },
    {
     "name": "stdout",
     "output_type": "stream",
     "text": [
      "The season for November is autumn.\n"
     ]
    }
   ],
   "source": [
    "month = input(\"enter a month.\")\n",
    "\n",
    "\n",
    "month = month.lower()\n",
    "\n",
    "if month in [\"december\", \"january\", \"february\"]:\n",
    "    season = \"winter\"\n",
    "elif month in [\"march\", \"april\", \"may\"]:\n",
    "               season = \"spring\"\n",
    "elif month in [\"june\", \"july\", \"august\"]:\n",
    "               season = \"summer\"\n",
    "elif month in [\"september\", \"october\", \"november\"]:\n",
    "               season = \"autumn\"\n",
    "else:\n",
    "               season = \"Invalid month\"\n",
    "               \n",
    "               \n",
    "print(f\"The season for {month.capitalize()} is {season}.\")"
   ]
  },
  {
   "cell_type": "markdown",
   "id": "afc5c624-a5cc-4c19-b326-e991c08b04fd",
   "metadata": {},
   "source": [
    "30. Implement a program to determine the type of a year (leap or common) and month (30 or 31 days) using\n",
    "elif statements."
   ]
  },
  {
   "cell_type": "code",
   "execution_count": 7,
   "id": "044085fd-5d3f-46e7-b8e1-78b44508413e",
   "metadata": {},
   "outputs": [
    {
     "name": "stdin",
     "output_type": "stream",
     "text": [
      "enter a year: 1998\n",
      "enter a month: 11\n"
     ]
    },
    {
     "name": "stdout",
     "output_type": "stream",
     "text": [
      "1998 is a NOn-Leap year.\n",
      " month 11 has Invalid month.\n"
     ]
    }
   ],
   "source": [
    "year = int(input(\"enter a year:\"))\n",
    "month = input(\"enter a month:\")\n",
    "\n",
    "\n",
    "year_type = \" \"\n",
    "month_type = \" \"\n",
    "\n",
    "\n",
    "if (year % 4 == 0 and year % 100 != 0) or (year % 400 == 0):\n",
    "    year_type = \"Leap year\"\n",
    "else:\n",
    "    year_type =\"NOn-Leap year\"\n",
    "    \n",
    "    \n",
    "if month in [1, 3, 5, 7, 8, 10, 12]:\n",
    "    month_type = \"31 days\"\n",
    "elif month in [4, 6, 9, 11]:\n",
    "    month_type = \"30 days\"\n",
    "elif month == 2:\n",
    "    if year_type == \"Leap year\":\n",
    "        month\n",
    "        _type == \"29 days\"\n",
    "    else:\n",
    "        month_type == \"28 days\"\n",
    "else:\n",
    "    month_type = \"Invalid month\"\n",
    "    \n",
    "    \n",
    "print(f\"{year} is a {year_type}.\")\n",
    "print(f\" month {month} has {month_type}.\")"
   ]
  },
  {
   "cell_type": "markdown",
   "id": "342ea4cd-cf16-4741-a562-9811cacbbb82",
   "metadata": {},
   "source": [
    "Basic Level:"
   ]
  },
  {
   "cell_type": "markdown",
   "id": "50d73550-4f08-4578-bdc8-3fdc33b8e208",
   "metadata": {},
   "source": [
    "1. Write a Python program that checks if a given number is positive, negative, or zero"
   ]
  },
  {
   "cell_type": "code",
   "execution_count": 8,
   "id": "a27acdf4-808f-47f2-acb4-83327343ff31",
   "metadata": {},
   "outputs": [
    {
     "name": "stdin",
     "output_type": "stream",
     "text": [
      "enter a number. -20\n"
     ]
    },
    {
     "name": "stdout",
     "output_type": "stream",
     "text": [
      "-20 is negative.\n"
     ]
    }
   ],
   "source": [
    "number = int(input(\"enter a number.\"))\n",
    "\n",
    "if number >= 0:\n",
    "    print(f\"{number} is positive.\")\n",
    "elif number == 0:\n",
    "    print(f\"zero\")\n",
    "else:\n",
    "    print(f\"{number} is negative.\")"
   ]
  },
  {
   "cell_type": "markdown",
   "id": "5d16edd3-5bf6-4e6d-a200-c603b1e5cf2b",
   "metadata": {},
   "source": [
    "2. Create a program to determine if a person is eligible to vote based on their age."
   ]
  },
  {
   "cell_type": "code",
   "execution_count": 9,
   "id": "0a58c6df-2229-4613-b4ab-b58d08b1cf3e",
   "metadata": {},
   "outputs": [
    {
     "name": "stdin",
     "output_type": "stream",
     "text": [
      "enter the person's age. 17\n"
     ]
    },
    {
     "name": "stdout",
     "output_type": "stream",
     "text": [
      "The person is not eligible to vote.\n"
     ]
    }
   ],
   "source": [
    "age = int(input(\"enter the person's age.\"))\n",
    "\n",
    "if age >=18:\n",
    "    print(f\"The person is eligible to vote,\")\n",
    "else:\n",
    "    print(f\"The person is not eligible to vote.\")"
   ]
  },
  {
   "cell_type": "markdown",
   "id": "6318166d-dce1-4fd8-808e-3911bd418b63",
   "metadata": {},
   "source": [
    "3. Write a program to find the maximum of two given numbers using conditional statements."
   ]
  },
  {
   "cell_type": "code",
   "execution_count": 11,
   "id": "f06839bd-07c0-4b01-9b65-a605b8cf2d96",
   "metadata": {},
   "outputs": [
    {
     "name": "stdin",
     "output_type": "stream",
     "text": [
      "enter the 1st number. 2\n",
      "enter the 2nd number. 6\n"
     ]
    },
    {
     "name": "stdout",
     "output_type": "stream",
     "text": [
      "The maximum number is , 6.\n"
     ]
    }
   ],
   "source": [
    "num1 = int(input(\"enter the 1st number.\"))\n",
    "num2 = int(input(\"enter the 2nd number.\"))\n",
    "\n",
    "if num1 >= num2:\n",
    "    max_num = num1\n",
    "elif num2 >= num1:\n",
    "    max_num = num2\n",
    "else:\n",
    "    max_num = 0\n",
    "    \n",
    "print(f\"The maximum number is , {max_num}.\")"
   ]
  },
  {
   "cell_type": "markdown",
   "id": "2c9d0bfb-fde1-4ff3-92a2-2b522286c133",
   "metadata": {},
   "source": [
    "4. Develop a program that calculates the grade of a student based on their exam score."
   ]
  },
  {
   "cell_type": "code",
   "execution_count": 12,
   "id": "856b2cd9-1414-488f-974d-9cd68f6ab740",
   "metadata": {},
   "outputs": [
    {
     "name": "stdin",
     "output_type": "stream",
     "text": [
      "enter the student's score. 66\n"
     ]
    },
    {
     "name": "stdout",
     "output_type": "stream",
     "text": [
      "The student's score is D.\n"
     ]
    }
   ],
   "source": [
    "score = int(input(\"enter the student's score.\"))\n",
    "\n",
    "\n",
    "if score >= 90:\n",
    "    grade = \"A\"\n",
    "elif score >= 80:\n",
    "    grade = \"B\"\n",
    "elif score >= 70:\n",
    "    grade = \"C\"\n",
    "elif score >= 60:\n",
    "    grade = \"D\"\n",
    "else:\n",
    "    grade = \"F\"\n",
    "    \n",
    "    \n",
    "print(f\"The student's score is {grade}.\")"
   ]
  },
  {
   "cell_type": "markdown",
   "id": "629869fe-2591-41e2-be9c-d92f6bf4248c",
   "metadata": {},
   "source": [
    "5. Create a program that checks if a year is a leap year or not."
   ]
  },
  {
   "cell_type": "code",
   "execution_count": 15,
   "id": "124e6ef5-83fb-40d6-9dfe-ff9b0999f8b2",
   "metadata": {},
   "outputs": [
    {
     "name": "stdin",
     "output_type": "stream",
     "text": [
      "enter a year. 2028\n"
     ]
    },
    {
     "name": "stdout",
     "output_type": "stream",
     "text": [
      "2028 is a leap year.\n"
     ]
    }
   ],
   "source": [
    "year = int(input(\"enter a year.\"))\n",
    "\n",
    "if year % 4 == 0 and year % 100 != 0:\n",
    "    print(f\"{year} is a leap year.\")\n",
    "else:\n",
    "    print(f\"{year} is not a leap year.\")"
   ]
  },
  {
   "cell_type": "markdown",
   "id": "4b84246b-c83d-45c1-9480-25dd824c8f0d",
   "metadata": {},
   "source": [
    "6. Write a program to classify a triangle based on its sides' lengths."
   ]
  },
  {
   "cell_type": "code",
   "execution_count": 16,
   "id": "bf61360d-d927-491f-a342-0c9092c5a1c1",
   "metadata": {},
   "outputs": [
    {
     "name": "stdin",
     "output_type": "stream",
     "text": [
      "enter the 1st length of a triangle. 60\n",
      "enter the 2nd length of a triangle. 90\n",
      "enter the 3rd length of a triangle. 30\n"
     ]
    },
    {
     "name": "stdout",
     "output_type": "stream",
     "text": [
      "The triangle type is scalene.\n"
     ]
    }
   ],
   "source": [
    "side1 = float(input(\"enter the 1st length of a triangle.\"))\n",
    "side2 = float(input(\"enter the 2nd length of a triangle.\"))\n",
    "side3 = float(input(\"enter the 3rd length of a triangle.\"))\n",
    "\n",
    "if side1 == side2 == side3:\n",
    "    triangle_type = \"equilateral\"\n",
    "elif side1 == side2 or side1 == side3 or side2 == side3:\n",
    "    triangle_type = \"isosceles\"\n",
    "else:\n",
    "    triangle_type = \"scalene\"\n",
    "    \n",
    "    \n",
    "print(f\"The triangle type is {triangle_type}.\")"
   ]
  },
  {
   "cell_type": "markdown",
   "id": "7e6712a5-8e9c-4c99-bf29-6347b21ba2a0",
   "metadata": {},
   "source": [
    "7. Build a program that determines the largest of three given numbers."
   ]
  },
  {
   "cell_type": "code",
   "execution_count": 18,
   "id": "64c3e3e6-0f0f-4d39-ba7b-400e81111226",
   "metadata": {},
   "outputs": [
    {
     "name": "stdin",
     "output_type": "stream",
     "text": [
      "enter the 1st number. 1\n",
      "enter the 2nd number. 2\n",
      "enter the 3rd number. 3\n"
     ]
    },
    {
     "name": "stdout",
     "output_type": "stream",
     "text": [
      " The largest number among 1, 2, and 3 is  3.\n"
     ]
    }
   ],
   "source": [
    "num1 = int(input(\"enter the 1st number.\"))\n",
    "num2 = int(input(\"enter the 2nd number.\"))\n",
    "num3 = int(input(\"enter the 3rd number.\"))\n",
    "\n",
    "\n",
    "if num1 >= num2:\n",
    "    if num1 >= num3:\n",
    "        largest = num1\n",
    "    else:\n",
    "        largest = num3\n",
    "else:\n",
    "    if num2 >= num1:\n",
    "        if num2 >= num3:\n",
    "            largest = num2\n",
    "        else:\n",
    "            largest = num3\n",
    "            \n",
    "            \n",
    "print(f\" The largest number among {num1}, {num2}, and {num3} is  {largest}.\")"
   ]
  },
  {
   "cell_type": "markdown",
   "id": "39a0ee3d-7703-490c-a750-36e1be5901ad",
   "metadata": {},
   "source": [
    "8. Develop a program that checks whether a character is a vowel or a consonant."
   ]
  },
  {
   "cell_type": "code",
   "execution_count": 19,
   "id": "8a0ae1b4-e529-4cf7-9590-77dda8e135db",
   "metadata": {},
   "outputs": [
    {
     "name": "stdin",
     "output_type": "stream",
     "text": [
      "enter a character. x\n"
     ]
    },
    {
     "name": "stdout",
     "output_type": "stream",
     "text": [
      "x is a consonant.\n"
     ]
    }
   ],
   "source": [
    "char = input(\"enter a character.\")\n",
    "\n",
    "char = char.lower()\n",
    "\n",
    "if char.isalpha():\n",
    "    if char in 'aeiou':\n",
    "        print(f\"{char} is a vowel.\")\n",
    "    else:\n",
    "        print(f\"{char} is a consonant.\")\n",
    "else:\n",
    "    print(f\"please enter a valid alphabetic character.\")"
   ]
  },
  {
   "cell_type": "markdown",
   "id": "672cdfab-860a-4027-81e8-355dec6f1e6a",
   "metadata": {},
   "source": [
    "9. Create a program to calculate the total cost of a shopping cart based on discounts."
   ]
  },
  {
   "cell_type": "code",
   "execution_count": 22,
   "id": "006a6290-bf60-4adc-9df2-80e103f3778f",
   "metadata": {},
   "outputs": [
    {
     "name": "stdout",
     "output_type": "stream",
     "text": [
      "Total cost after 50 % discount: $604.5:2f\n"
     ]
    }
   ],
   "source": [
    "def calculate_total_cost(cart, discount_percentage):\n",
    "    total_cost = sum(cart)\n",
    "    discount_amount = (discount_percentage / 100) * total_cost\n",
    "    discounted_total = total_cost - discount_amount\n",
    "    return discounted_total\n",
    "\n",
    "cart_items = [100, 240, 309, 410, 150]\n",
    "discount_percentage = 50\n",
    "\n",
    "total_cost = calculate_total_cost(cart_items, discount_percentage)\n",
    "print(f\"Total cost after {discount_percentage} % discount: ${total_cost}:2f\")"
   ]
  },
  {
   "cell_type": "markdown",
   "id": "75a1ee7c-260d-42e9-b92c-84458d7b74d3",
   "metadata": {},
   "source": [
    "10. Write a program that checks if a given number is even or odd."
   ]
  },
  {
   "cell_type": "code",
   "execution_count": 23,
   "id": "36a33d90-d6cb-4613-81f1-55e8ddd00473",
   "metadata": {},
   "outputs": [
    {
     "name": "stdin",
     "output_type": "stream",
     "text": [
      "enter a number. 13\n"
     ]
    },
    {
     "name": "stdout",
     "output_type": "stream",
     "text": [
      "13 is odd.\n"
     ]
    }
   ],
   "source": [
    "number = int(input(\"enter a number.\"))\n",
    "\n",
    "\n",
    "if number % 2 == 0:\n",
    "    print(f\"{number} is even.\")\n",
    "elif number % 2 != 0:\n",
    "    print(f\"{number} is odd.\")\n",
    "else:\n",
    "    print(f\"{number} is neither even nor odd:\")"
   ]
  },
  {
   "cell_type": "markdown",
   "id": "9661d1bc-eb69-41ba-893d-2dfed2671932",
   "metadata": {},
   "source": [
    "Intermediate Level:"
   ]
  },
  {
   "cell_type": "markdown",
   "id": "bc760b50-3723-40cf-a618-8374e97651ea",
   "metadata": {},
   "source": [
    "11. Write a program that calculates the roots of a quadratic equation ."
   ]
  },
  {
   "cell_type": "code",
   "execution_count": 1,
   "id": "2bf7204d-c7a2-42d9-a0e4-5e80d539e525",
   "metadata": {},
   "outputs": [
    {
     "name": "stdin",
     "output_type": "stream",
     "text": [
      "enter the coefficient a: 2\n",
      "enter the coefficient b: 3\n",
      "enter the coefficient c: 12\n"
     ]
    },
    {
     "name": "stdout",
     "output_type": "stream",
     "text": [
      "The roots are complex: -0.75 + 2.331844763272204i and -0.75 - 2.331844763272204i\n"
     ]
    }
   ],
   "source": [
    "import math\n",
    "\n",
    "a = float(input(\"enter the coefficient a:\"))\n",
    "b = float(input(\"enter the coefficient b:\"))\n",
    "c = float(input(\"enter the coefficient c:\"))\n",
    "\n",
    "discriminant = b**2 - 4*a*c\n",
    "\n",
    "if discriminant > 0:\n",
    "    root1 = (-b + math.sqrt(discriminant)) / (2*a)\n",
    "    root2 = (-b - math.sqrt(discriminant)) / (2*a)\n",
    "    print(f\"The roots are real and distinct: {root1} and {root2}\")\n",
    "elif discriminant == 0:\n",
    "    root = -b / (2*a)\n",
    "    print(f\"There is one real root:{root}\")\n",
    "else:\n",
    "    realpart = -b / (2*a)\n",
    "    imaginarypart = math.sqrt(-discriminant) / (2*a)\n",
    "    \n",
    "print(f\"The roots are complex: {realpart} + {imaginarypart}i and {realpart} - {imaginarypart}i\")"
   ]
  },
  {
   "cell_type": "markdown",
   "id": "279462b1-afff-4577-aa59-3dccaebf118f",
   "metadata": {},
   "source": [
    "12. Create a program that determines the day of the week based on the day number (1-7)."
   ]
  },
  {
   "cell_type": "code",
   "execution_count": 2,
   "id": "ab115cf5-8f60-4861-85e4-f2629a7327d6",
   "metadata": {},
   "outputs": [
    {
     "name": "stdin",
     "output_type": "stream",
     "text": [
      "enter the day number: 2\n"
     ]
    },
    {
     "name": "stdout",
     "output_type": "stream",
     "text": [
      "Day 2 is monday.\n"
     ]
    }
   ],
   "source": [
    "day_number = int(input(\"enter the day number:\"))\n",
    "days_of_week = [\"sunday\", \"monday\", \"tuesday\", \"wednesday\", \"thursday\", \"friday\", \"saturday\"]\n",
    "\n",
    "\n",
    "if 1 <= day_number <=7:\n",
    "    day_name = days_of_week[day_number -1]\n",
    "    print(f\"Day {day_number} is {day_name}.\")\n",
    "else:\n",
    "    print(f\"Invalid input. please enter a number between 1 and 7.\")"
   ]
  },
  {
   "cell_type": "markdown",
   "id": "ff3326d5-7d4d-410e-b2d2-3851645784fa",
   "metadata": {},
   "source": [
    "13. Develop a program that calculates the factorial of a given number using recursion."
   ]
  },
  {
   "cell_type": "code",
   "execution_count": 3,
   "id": "f3ac3608-cd4c-40cd-8238-0544d57ab3e1",
   "metadata": {},
   "outputs": [
    {
     "name": "stdin",
     "output_type": "stream",
     "text": [
      "enter a non-negative integer: 2\n"
     ]
    },
    {
     "name": "stdout",
     "output_type": "stream",
     "text": [
      "The factorial of {num} is {result}.\n"
     ]
    }
   ],
   "source": [
    "def factorial(n):\n",
    "    if n == 0:\n",
    "        return 1\n",
    "    else:\n",
    "        return n * factorial(n - 1)\n",
    "    \n",
    "num = int(input(\"enter a non-negative integer:\"))\n",
    "\n",
    "\n",
    "if num <0:\n",
    "    print(\"Factorial is not defined for negative numbers.\")\n",
    "else:\n",
    "    result = factorial(num)\n",
    "    print(\"The factorial of {num} is {result}.\")"
   ]
  },
  {
   "cell_type": "markdown",
   "id": "60a30960-d73b-4301-a9f7-03e4d69defa0",
   "metadata": {},
   "source": [
    "14. Write a program to find the largest among three numbers without using the `max()` function."
   ]
  },
  {
   "cell_type": "code",
   "execution_count": 4,
   "id": "d994cdc5-4f89-44d1-a900-50685178b401",
   "metadata": {},
   "outputs": [
    {
     "name": "stdin",
     "output_type": "stream",
     "text": [
      "enter the 1st number. 22\n",
      "enter the 2nd number. 33\n",
      "enter the 3rd number. 44\n"
     ]
    },
    {
     "name": "stdout",
     "output_type": "stream",
     "text": [
      "The largest number among 22, 33, and 44 is 44.\n"
     ]
    }
   ],
   "source": [
    "num1 = int(input(\"enter the 1st number.\"))\n",
    "num2 = int(input(\"enter the 2nd number.\"))\n",
    "num3 = int(input(\"enter the 3rd number.\"))\n",
    "\n",
    "\n",
    "if num1 >= num2 and num1 >=num3:\n",
    "    largest = num1\n",
    "elif num2 >= num1 and num2 >= num3:\n",
    "    largest = nuum2\n",
    "else:\n",
    "    largest = num3\n",
    "    \n",
    "    \n",
    "print(f\"The largest number among {num1}, {num2}, and {num3} is {largest}.\")\n",
    "                 "
   ]
  },
  {
   "cell_type": "markdown",
   "id": "47684895-5a74-4fc5-89da-90e638fa1230",
   "metadata": {},
   "source": [
    "15. Create a program that simulates a basic ATM transaction menu."
   ]
  },
  {
   "cell_type": "code",
   "execution_count": 5,
   "id": "305ec20c-ee5c-4363-990b-c6e2e0b44cc2",
   "metadata": {},
   "outputs": [
    {
     "name": "stdout",
     "output_type": "stream",
     "text": [
      "\n",
      "ATM Menu:\n",
      "1. Display Balance:\n",
      "2. Deposit Money\n",
      "3. Withdraw Money\n",
      "4.Exit\n"
     ]
    },
    {
     "name": "stdin",
     "output_type": "stream",
     "text": [
      "enter your choice (1/2/3/4): 1\n"
     ]
    },
    {
     "name": "stdout",
     "output_type": "stream",
     "text": [
      " your account balance is: $1000.00\n",
      "\n",
      "ATM Menu:\n",
      "1. Display Balance:\n",
      "2. Deposit Money\n",
      "3. Withdraw Money\n",
      "4.Exit\n"
     ]
    },
    {
     "name": "stdin",
     "output_type": "stream",
     "text": [
      "enter your choice (1/2/3/4): 3\n",
      "enter the amount to withdraw: $ 2200\n"
     ]
    },
    {
     "name": "stdout",
     "output_type": "stream",
     "text": [
      "Insufficient funds.\n",
      "\n",
      "ATM Menu:\n",
      "1. Display Balance:\n",
      "2. Deposit Money\n",
      "3. Withdraw Money\n",
      "4.Exit\n"
     ]
    },
    {
     "name": "stdin",
     "output_type": "stream",
     "text": [
      "enter your choice (1/2/3/4): 4\n"
     ]
    },
    {
     "name": "stdout",
     "output_type": "stream",
     "text": [
      "Thank you for using the ATM. Goodbye!\n"
     ]
    }
   ],
   "source": [
    "balance = 1000\n",
    "\n",
    "def display_balance():\n",
    "    print(f\" your account balance is: ${balance:.2f}\")\n",
    "    \n",
    "    \n",
    "def deposit():\n",
    "    global balance\n",
    "    amount = float(input(\"enter the amount to deposit: $\"))\n",
    "    balance += amount\n",
    "    print(f\"${amount:.2f} has beendeposited into your account.\")\n",
    "    display_balance()\n",
    "    \n",
    "    \n",
    "def withdraw():\n",
    "    global balance\n",
    "    amount = float(input(\"enter the amount to withdraw: $\"))\n",
    "    if amount <= balance:\n",
    "        balance -= amount\n",
    "        print(f\"${amount:.2f} has been withdraw from your account.\")\n",
    "        display_balance()\n",
    "    else:\n",
    "        print(\"Insufficient funds.\")\n",
    "        \n",
    "while True:\n",
    "    print(\"\\nATM Menu:\")\n",
    "    print(\"1. Display Balance:\")\n",
    "    print(\"2. Deposit Money\")\n",
    "    print(\"3. Withdraw Money\")\n",
    "    print(\"4.Exit\")\n",
    "    \n",
    "    \n",
    "    choice = input(\"enter your choice (1/2/3/4):\")\n",
    "    \n",
    "    \n",
    "    if choice == '1':\n",
    "        display_balance()\n",
    "    elif choice == '2':\n",
    "        deposit()\n",
    "    elif choice == '3':\n",
    "        withdraw()\n",
    "    elif choice == '4':\n",
    "        print(\"Thank you for using the ATM. Goodbye!\")\n",
    "        break\n",
    "    else:\n",
    "        print(\"Invalid choice. please select a valid option (1/2/3/4):\")"
   ]
  },
  {
   "cell_type": "markdown",
   "id": "e7915fa0-9765-46fe-bf07-02e4a8d9beff",
   "metadata": {},
   "source": [
    "16. Build a program that checks if a given string is a palindrome or not."
   ]
  },
  {
   "cell_type": "code",
   "execution_count": 6,
   "id": "a19482d5-b995-4222-b0d4-6f263147700d",
   "metadata": {},
   "outputs": [
    {
     "name": "stdin",
     "output_type": "stream",
     "text": [
      "enter a string naitik\n"
     ]
    },
    {
     "name": "stdout",
     "output_type": "stream",
     "text": [
      "naitik is not a polindrome.\n"
     ]
    }
   ],
   "source": [
    "def is_polindrome(string):\n",
    "    cleaned_string = ' '.join(string.split()).lower()\n",
    "    return cleaned_string == cleaned_string[::-1]\n",
    "\n",
    "user_input = input(\"enter a string\")\n",
    "\n",
    "if is_polindrome(user_input):\n",
    "    print(f\"{user_input} is a polindrome.\")\n",
    "else:\n",
    "    print(f\"{user_input} is not a polindrome.\")"
   ]
  },
  {
   "cell_type": "markdown",
   "id": "698239f3-0b18-433e-a867-7ee4af465ae2",
   "metadata": {},
   "source": [
    "17. Write a program that calculates the average of a list of numbers, excluding the smallest and largest values."
   ]
  },
  {
   "cell_type": "code",
   "execution_count": 9,
   "id": "b3206aee-fd19-470a-bbfc-e388bb78dfbf",
   "metadata": {},
   "outputs": [
    {
     "name": "stdin",
     "output_type": "stream",
     "text": [
      "Enter the number of elements to be inserted:  5\n",
      "Enter element:  3\n",
      "Enter element:  7\n",
      "Enter element:  9\n",
      "Enter element:  6\n",
      "Enter element:  1\n"
     ]
    },
    {
     "name": "stdout",
     "output_type": "stream",
     "text": [
      "Average of elements in the list 5.2\n"
     ]
    }
   ],
   "source": [
    "n=int(input(\"Enter the number of elements to be inserted: \"))\n",
    "a=[]\n",
    "for i in range(0,n):\n",
    "    elem=int(input(\"Enter element: \"))\n",
    "    a.append(elem)\n",
    "avg=sum(a)/n\n",
    "print(\"Average of elements in the list\",round(avg,2))"
   ]
  },
  {
   "cell_type": "markdown",
   "id": "09066914-1b16-43cb-8e4b-7b90a45162ee",
   "metadata": {},
   "source": [
    "18. Develop a program that converts a given temperature from Celsius to Fahrenheit."
   ]
  },
  {
   "cell_type": "code",
   "execution_count": 4,
   "id": "b95e2c90-0bc2-4915-9943-ee8effa240d4",
   "metadata": {},
   "outputs": [
    {
     "name": "stdin",
     "output_type": "stream",
     "text": [
      "Enter temperature in Celsius:  38\n"
     ]
    },
    {
     "name": "stdout",
     "output_type": "stream",
     "text": [
      "38.0 degrees Celsius is equal to 100.4 degrees Fahrenheit.\n"
     ]
    }
   ],
   "source": [
    "# Input temperature in Celsius\n",
    "celsius = float(input(\"Enter temperature in Celsius: \"))\n",
    "\n",
    "# Convert Celsius to Fahrenheit\n",
    "fahrenheit = (celsius * 9/5) + 32\n",
    "\n",
    "# Display the result\n",
    "print(f\"{celsius} degrees Celsius is equal to {fahrenheit} degrees Fahrenheit.\")"
   ]
  },
  {
   "cell_type": "markdown",
   "id": "549a33da-9b6a-4998-a020-e95a5fbcd048",
   "metadata": {},
   "source": [
    "19. Create a program that simulates a basic calculator for addition, subtraction, multiplication, and division."
   ]
  },
  {
   "cell_type": "code",
   "execution_count": 5,
   "id": "9ea42c97-9356-457e-965e-fc3afd490ab3",
   "metadata": {},
   "outputs": [
    {
     "name": "stdout",
     "output_type": "stream",
     "text": [
      "Basic Calculator Menu:\n",
      "1. Addition\n",
      "2. Subtraction\n",
      "3. Multiplication\n",
      "4. Division\n",
      "5. Quit\n"
     ]
    },
    {
     "name": "stdin",
     "output_type": "stream",
     "text": [
      "Enter your choice (1/2/3/4/5):  1\n",
      "Enter the first number:  24\n",
      "Enter the second number:  36\n"
     ]
    },
    {
     "name": "stdout",
     "output_type": "stream",
     "text": [
      "The result of addition is: 60.0\n",
      "Basic Calculator Menu:\n",
      "1. Addition\n",
      "2. Subtraction\n",
      "3. Multiplication\n",
      "4. Division\n",
      "5. Quit\n"
     ]
    },
    {
     "name": "stdin",
     "output_type": "stream",
     "text": [
      "Enter your choice (1/2/3/4/5):  5\n"
     ]
    },
    {
     "name": "stdout",
     "output_type": "stream",
     "text": [
      "Thank you for using the calculator. Goodbye!\n"
     ]
    }
   ],
   "source": [
    "while True:\n",
    "    # Display the calculator menu\n",
    "    print(\"Basic Calculator Menu:\")\n",
    "    print(\"1. Addition\")\n",
    "    print(\"2. Subtraction\")\n",
    "    print(\"3. Multiplication\")\n",
    "    print(\"4. Division\")\n",
    "    print(\"5. Quit\")\n",
    "\n",
    "    # Get user choice\n",
    "    choice = input(\"Enter your choice (1/2/3/4/5): \")\n",
    "\n",
    "    if choice == '1':\n",
    "        num1 = float(input(\"Enter the first number: \"))\n",
    "        num2 = float(input(\"Enter the second number: \"))\n",
    "        result = num1 + num2\n",
    "        print(f\"The result of addition is: {result}\")\n",
    "    elif choice == '2':\n",
    "        num1 = float(input(\"Enter the first number: \"))\n",
    "        num2 = float(input(\"Enter the second number: \"))\n",
    "        result = num1 - num2\n",
    "        print(f\"The result of subtraction is: {result}\")\n",
    "    elif choice == '3':\n",
    "        num1 = float(input(\"Enter the first number: \"))\n",
    "        num2 = float(input(\"Enter the second number: \"))\n",
    "        result = num1 * num2\n",
    "        print(f\"The result of multiplication is: {result}\")\n",
    "    elif choice == '4':\n",
    "        num1 = float(input(\"Enter the dividend: \"))\n",
    "        num2 = float(input(\"Enter the divisor: \"))\n",
    "        if num2 == 0:\n",
    "            print(\"Error: Division by zero!\")\n",
    "        else:\n",
    "            result = num1 / num2\n",
    "            print(f\"The result of division is: {result}\")\n",
    "    elif choice == '5':\n",
    "        print(\"Thank you for using the calculator. Goodbye!\")\n",
    "        break\n",
    "    else:\n",
    "        print(\"Invalid choice. Please select a valid option (1/2/3/4/5).\")\n"
   ]
  },
  {
   "cell_type": "markdown",
   "id": "886e17d1-eb34-49db-a2fb-c89e5d720288",
   "metadata": {},
   "source": [
    "20. Write a program that determines the roots of a cubic equation using the Cardano formula."
   ]
  },
  {
   "cell_type": "code",
   "execution_count": 6,
   "id": "6e655c02-0d85-4f5e-b97f-bf6b5354d773",
   "metadata": {},
   "outputs": [
    {
     "name": "stdin",
     "output_type": "stream",
     "text": [
      "Enter coefficient a:  5\n",
      "Enter coefficient b:  4\n",
      "Enter coefficient c:  2\n",
      "Enter coefficient d:  3\n"
     ]
    },
    {
     "name": "stdout",
     "output_type": "stream",
     "text": [
      "Root 1: -1.0000\n",
      "Root 2: 0.1000-0.7681j\n",
      "Root 3: 0.1000+0.7681j\n"
     ]
    }
   ],
   "source": [
    "import math\n",
    "\n",
    "# Input coefficients of the cubic equation: ax^3 + bx^2 + cx + d = 0\n",
    "a = float(input(\"Enter coefficient a: \"))\n",
    "b = float(input(\"Enter coefficient b: \"))\n",
    "c = float(input(\"Enter coefficient c: \"))\n",
    "d = float(input(\"Enter coefficient d: \"))\n",
    "\n",
    "# Calculate the discriminant and intermediate values\n",
    "delta0 = b**2 - 3*a*c\n",
    "delta1 = 2*b**3 - 9*a*b*c + 27*a**2*d\n",
    "C = ((delta1 + math.sqrt(delta1**2 - 4*delta0**3)) / 2)**(1/3)\n",
    "\n",
    "# Calculate the roots\n",
    "root1 = (-1 / (3*a)) * (b + C + delta0/C)\n",
    "root2 = (-1 / (3*a)) * (b + complex(-0.5, math.sqrt(3)/2) * C + complex(-0.5, -math.sqrt(3)/2) * delta0/C)\n",
    "root3 = (-1 / (3*a)) * (b + complex(-0.5, -math.sqrt(3)/2) * C + complex(-0.5, math.sqrt(3)/2) * delta0/C)\n",
    "\n",
    "# Display the roots\n",
    "print(f\"Root 1: {root1:.4f}\")\n",
    "print(f\"Root 2: {root2:.4f}\")\n",
    "print(f\"Root 3: {root3:.4f}\")"
   ]
  },
  {
   "cell_type": "markdown",
   "id": "69010270-579c-44d9-81ef-f7400576e378",
   "metadata": {},
   "source": [
    "Advanced Level:"
   ]
  },
  {
   "cell_type": "markdown",
   "id": "4a1db752-3086-4f9c-a3c7-f6333840cc71",
   "metadata": {},
   "source": [
    "21. Create a program that calculates the income tax based on the user's income and tax brackets."
   ]
  },
  {
   "cell_type": "code",
   "execution_count": 7,
   "id": "7d3278cb-065d-4c8a-8744-973c8c362c86",
   "metadata": {},
   "outputs": [
    {
     "name": "stdin",
     "output_type": "stream",
     "text": [
      "Enter your income:  5050\n"
     ]
    },
    {
     "name": "stdout",
     "output_type": "stream",
     "text": [
      "Your income tax owed is: $505.00\n"
     ]
    }
   ],
   "source": [
    "# Define the tax brackets and rates\n",
    "tax_brackets = [(0, 9875), (9876, 40125), (40126, 85525), (85526, 163300), (163301, 207350), (207351, 518400)]\n",
    "tax_rates = [0.1, 0.12, 0.22, 0.24, 0.32, 0.35, 0.37]\n",
    "\n",
    "# Get user's income\n",
    "income = input(\"Enter your income: \")\n",
    "\n",
    "# Check if the input is a valid number\n",
    "if income.isdigit():\n",
    "    income = int(income)\n",
    "    tax_owed = 0\n",
    "\n",
    "    # Calculate tax based on the tax brackets\n",
    "    for i in range(len(tax_brackets)):\n",
    "        lower, upper = tax_brackets[i]\n",
    "        rate = tax_rates[i]\n",
    "\n",
    "        if income <= lower:\n",
    "            break\n",
    "        elif income <= upper:\n",
    "            tax_owed += (income - lower) * rate\n",
    "            break\n",
    "        else:\n",
    "            tax_owed += (upper - lower) * rate\n",
    "\n",
    "    print(f\"Your income tax owed is: ${tax_owed:.2f}\")\n",
    "else:\n",
    "    print(\"Invalid input. Please enter a valid income as a positive integer.\")"
   ]
  },
  {
   "cell_type": "markdown",
   "id": "79db815e-66bb-4664-b826-6a27dbcd5720",
   "metadata": {},
   "source": [
    "22. Write a program that simulates a rock-paper-scissors game against the computer."
   ]
  },
  {
   "cell_type": "code",
   "execution_count": 8,
   "id": "9cc4c4c8-f132-4f3f-ac99-b1ec7e973bff",
   "metadata": {},
   "outputs": [
    {
     "name": "stdin",
     "output_type": "stream",
     "text": [
      "Enter your choice (rock, paper, or scissors):  rock\n"
     ]
    },
    {
     "name": "stdout",
     "output_type": "stream",
     "text": [
      "Your choice: rock\n",
      "Computer's choice: rock\n",
      "It's a tie!\n"
     ]
    }
   ],
   "source": [
    "import random\n",
    "\n",
    "# Define the choices\n",
    "choices = [\"rock\", \"paper\", \"scissors\"]\n",
    "\n",
    "# Get user's choice\n",
    "user_choice = input(\"Enter your choice (rock, paper, or scissors): \").lower()\n",
    "\n",
    "# Check if the user's choice is valid\n",
    "if user_choice not in choices:\n",
    "    print(\"Invalid choice. Please choose from rock, paper, or scissors.\")\n",
    "else:\n",
    "    # Generate a random choice for the computer\n",
    "    computer_choice = random.choice(choices)\n",
    "\n",
    "    # Display the choices\n",
    "    print(f\"Your choice: {user_choice}\")\n",
    "    print(f\"Computer's choice: {computer_choice}\")\n",
    "\n",
    "    # Determine the winner\n",
    "    if user_choice == computer_choice:\n",
    "        print(\"It's a tie!\")\n",
    "    elif (\n",
    "        (user_choice == \"rock\" and computer_choice == \"scissors\")\n",
    "        or (user_choice == \"paper\" and computer_choice == \"rock\")\n",
    "        or (user_choice == \"scissors\" and computer_choice == \"paper\")\n",
    "    ):\n",
    "        print(\"You win!\")\n",
    "    else:\n",
    "        print(\"Computer wins!\")\n",
    "        "
   ]
  },
  {
   "cell_type": "markdown",
   "id": "83446964-94b6-451f-9f05-4c36c21aa9f2",
   "metadata": {},
   "source": [
    "23. Develop a program that generates a random password based on user preferences (length, complexity)."
   ]
  },
  {
   "cell_type": "code",
   "execution_count": 17,
   "id": "c444dac5-08e4-4db8-a400-d1ead1dea287",
   "metadata": {},
   "outputs": [
    {
     "name": "stdout",
     "output_type": "stream",
     "text": [
      "Welcome to the Random Password Generator!\n"
     ]
    },
    {
     "name": "stdin",
     "output_type": "stream",
     "text": [
      "Enter the length of the password:  8\n",
      "Include lowercase letters? (yes/no):  yes\n",
      "Include uppercase letters? (yes/no):  yes\n",
      "Include digits? (yes/no):  yes\n",
      "Include special characters? (yes/no):  yes\n"
     ]
    },
    {
     "name": "stdout",
     "output_type": "stream",
     "text": [
      "Generated Password: cMb\"i+|?\n"
     ]
    }
   ],
   "source": [
    "import random\n",
    "import string\n",
    "\n",
    "def generate_password(length, use_lowercase, use_uppercase, use_digits, use_special_chars):\n",
    "    characters = \"\"\n",
    "    if use_lowercase:\n",
    "        characters += string.ascii_lowercase\n",
    "    if use_uppercase:\n",
    "        characters += string.ascii_uppercase\n",
    "    if use_digits:\n",
    "        characters += string.digits\n",
    "    if use_special_chars:\n",
    "        characters += string.punctuation\n",
    "\n",
    "    if not characters:\n",
    "        return \"Please select at least one character set.\"\n",
    "\n",
    "    password = ''.join(random.choice(characters) for _ in range(length))\n",
    "    return password\n",
    "\n",
    "def main():\n",
    "    print(\"Welcome to the Random Password Generator!\")\n",
    "    length = int(input(\"Enter the length of the password: \"))\n",
    "    use_lowercase = input(\"Include lowercase letters? (yes/no): \").lower() == \"yes\"\n",
    "    use_uppercase = input(\"Include uppercase letters? (yes/no): \").lower() == \"yes\"\n",
    "    use_digits = input(\"Include digits? (yes/no): \").lower() == \"yes\"\n",
    "    use_special_chars = input(\"Include special characters? (yes/no): \").lower() == \"yes\"\n",
    "\n",
    "    password = generate_password(length, use_lowercase, use_uppercase, use_digits, use_special_chars)\n",
    "    print(\"Generated Password:\", password)\n",
    "\n",
    "if __name__ == \"__main__\":\n",
    "    main()\n"
   ]
  },
  {
   "cell_type": "markdown",
   "id": "a72ab8d9-7b0e-4392-9a97-ca042182a717",
   "metadata": {},
   "source": [
    "24. Create a program that implements a simple text-based adventure game with branching scenarios"
   ]
  },
  {
   "cell_type": "code",
   "execution_count": 15,
   "id": "e8883bf9-fa8a-480a-9438-bed5c9382b63",
   "metadata": {},
   "outputs": [
    {
     "name": "stdout",
     "output_type": "stream",
     "text": [
      "Welcome to the Adventure Game!\n",
      "\n",
      "You find yourself in a dense forest.\n",
      "Your goal is to find the hidden treasure.\n",
      "\n",
      "You come across a path splitting into two.\n"
     ]
    },
    {
     "name": "stdin",
     "output_type": "stream",
     "text": [
      "Do you want to go left or right? (left/right):  right\n"
     ]
    },
    {
     "name": "stdout",
     "output_type": "stream",
     "text": [
      "\n",
      "You find a cave entrance.\n"
     ]
    },
    {
     "name": "stdin",
     "output_type": "stream",
     "text": [
      "Do you want to enter the cave? (yes/no):  yes\n"
     ]
    },
    {
     "name": "stdout",
     "output_type": "stream",
     "text": [
      "\n",
      "Inside the cave, it's dark and damp.\n"
     ]
    }
   ],
   "source": [
    "import time\n",
    "\n",
    "def intro():\n",
    "    print(\"Welcome to the Adventure Game!\")\n",
    "    time.sleep(1)\n",
    "    print(\"\\nYou find yourself in a dense forest.\")\n",
    "    time.sleep(1)\n",
    "    print(\"Your goal is to find the hidden treasure.\")\n",
    "    time.sleep(1)\n",
    "\n",
    "def forest_path():\n",
    "    print(\"\\nYou come across a path splitting into two.\")\n",
    "    time.sleep(1)\n",
    "    choice = input(\"Do you want to go left or right? (left/right): \").lower()\n",
    "    if choice == \"left\":\n",
    "        print(\"\\nYou encounter a river. What do you want to do?\")\n",
    "        time.sleep(1)\n",
    "        # Add more scenarios or choices here based on the player's decision\n",
    "    elif choice == \"right\":\n",
    "        print(\"\\nYou find a cave entrance.\")\n",
    "        time.sleep(1)\n",
    "        choice = input(\"Do you want to enter the cave? (yes/no): \").lower()\n",
    "        if choice == \"yes\":\n",
    "            print(\"\\nInside the cave, it's dark and damp.\")\n",
    "            time.sleep(1)\n",
    "            # Add more scenarios or choices here based on the player's decision\n",
    "        elif choice == \"no\":\n",
    "            print(\"\\nYou decide not to enter the cave.\")\n",
    "            time.sleep(1)\n",
    "            # Continue the story based on the player's decision\n",
    "        else:\n",
    "            print(\"Invalid choice. Please try again.\")\n",
    "            forest_path()  # Restart the function if the choice is invalid\n",
    "    else:\n",
    "        print(\"Invalid choice. Please try again.\")\n",
    "        forest_path()  # Restart the function if the choice is invalid\n",
    "\n",
    "def main():\n",
    "    intro()\n",
    "    forest_path()\n",
    "\n",
    "if __name__ == \"__main__\":\n",
    "    main()"
   ]
  },
  {
   "cell_type": "markdown",
   "id": "82587507-49d6-457a-a444-e184921edecd",
   "metadata": {},
   "source": [
    "25. Build a program that solves a linear equation for x, considering different cases"
   ]
  },
  {
   "cell_type": "code",
   "execution_count": 16,
   "id": "b2adf358-d836-4bd3-8739-1b4d002c3186",
   "metadata": {},
   "outputs": [
    {
     "name": "stdin",
     "output_type": "stream",
     "text": [
      "Enter the coefficient 'a':  3\n",
      "Enter the constant term 'b':  4\n"
     ]
    },
    {
     "name": "stdout",
     "output_type": "stream",
     "text": [
      "The solution to the equation 3.0x + 4.0 = 0 is x = -1.3333333333333333\n"
     ]
    }
   ],
   "source": [
    "def solve_linear_equation(a, b):\n",
    "    if a == 0:\n",
    "        if b == 0:\n",
    "            print(\"Infinite solutions (the equation is identity)\")\n",
    "        else:\n",
    "            print(\"No solution (the equation is inconsistent)\")\n",
    "    else:\n",
    "        x = -b / a\n",
    "        print(f\"The solution to the equation {a}x + {b} = 0 is x = {x}\")\n",
    "\n",
    "# Input coefficients a and b for the equation ax + b = 0\n",
    "a = float(input(\"Enter the coefficient 'a': \"))\n",
    "b = float(input(\"Enter the constant term 'b': \"))\n",
    "\n",
    "solve_linear_equation(a, b)"
   ]
  },
  {
   "cell_type": "markdown",
   "id": "f1ab67c3-ecc5-480f-bc52-14d6f0ab75e7",
   "metadata": {},
   "source": [
    "26. Write a program that simulates a basic quiz game with multiple-choice questions and scoring."
   ]
  },
  {
   "cell_type": "code",
   "execution_count": 18,
   "id": "421dfb6e-fc4e-49cf-ae8c-95d3383db98d",
   "metadata": {},
   "outputs": [
    {
     "name": "stdout",
     "output_type": "stream",
     "text": [
      "Welcome to the Quiz Game!\n",
      "\n"
     ]
    },
    {
     "name": "stdin",
     "output_type": "stream",
     "text": [
      "What is the capital of France?\n",
      "(a) London\n",
      "(b) Paris\n",
      "(c) Rome\n",
      " b\n"
     ]
    },
    {
     "name": "stdout",
     "output_type": "stream",
     "text": [
      "Correct!\n",
      "\n"
     ]
    },
    {
     "name": "stdin",
     "output_type": "stream",
     "text": [
      "Which planet is known as the 'Red Planet'?\n",
      "(a) Venus\n",
      "(b) Mars\n",
      "(c) Jupiter\n",
      " b\n"
     ]
    },
    {
     "name": "stdout",
     "output_type": "stream",
     "text": [
      "Correct!\n",
      "\n"
     ]
    },
    {
     "name": "stdin",
     "output_type": "stream",
     "text": [
      "What is the largest mammal in the world?\n",
      "(a) Elephant\n",
      "(b) Blue Whale\n",
      "(c) Giraffe\n",
      " b\n"
     ]
    },
    {
     "name": "stdout",
     "output_type": "stream",
     "text": [
      "Correct!\n",
      "\n",
      "You got 3/3 correct.\n"
     ]
    }
   ],
   "source": [
    "class Question:\n",
    "    def __init__(self, prompt, answer):\n",
    "        self.prompt = prompt\n",
    "        self.answer = answer\n",
    "\n",
    "# Define some sample questions\n",
    "questions = [\n",
    "    Question(\"What is the capital of France?\\n(a) London\\n(b) Paris\\n(c) Rome\\n\", \"b\"),\n",
    "    Question(\"Which planet is known as the 'Red Planet'?\\n(a) Venus\\n(b) Mars\\n(c) Jupiter\\n\", \"b\"),\n",
    "    Question(\"What is the largest mammal in the world?\\n(a) Elephant\\n(b) Blue Whale\\n(c) Giraffe\\n\", \"b\")\n",
    "]\n",
    "\n",
    "def run_quiz(questions):\n",
    "    score = 0\n",
    "    for question in questions:\n",
    "        answer = input(question.prompt).lower()\n",
    "        if answer == question.answer:\n",
    "            score += 1\n",
    "            print(\"Correct!\\n\")\n",
    "        else:\n",
    "            print(\"Incorrect!\\n\")\n",
    "    print(f\"You got {score}/{len(questions)} correct.\")\n",
    "\n",
    "# Run the quiz\n",
    "print(\"Welcome to the Quiz Game!\\n\")\n",
    "run_quiz(questions)\n"
   ]
  },
  {
   "cell_type": "markdown",
   "id": "d6ccdc5e-4329-4595-85a2-ba040a800a73",
   "metadata": {},
   "source": [
    "27. Develop a program that determines whether a given year is a prime number or not."
   ]
  },
  {
   "cell_type": "code",
   "execution_count": 21,
   "id": "ae6cf6ef-59dd-4572-b932-46115e4262a4",
   "metadata": {},
   "outputs": [
    {
     "name": "stdin",
     "output_type": "stream",
     "text": [
      "Enter the year to be checked 198\n"
     ]
    },
    {
     "name": "stdout",
     "output_type": "stream",
     "text": [
      "Its not a prime\n"
     ]
    }
   ],
   "source": [
    "n=int(input(\"Enter the year to be checked\"))\n",
    "if n>1:\n",
    "    for i in range(2,int(n**0.5)+1):\n",
    "        if n%i==0:\n",
    "            print(\"Its not a prime\")\n",
    "            break\n",
    "    else:\n",
    "        print(\"Its a prime number\")\n",
    "else:\n",
    "    print(\"Its not a prime\")"
   ]
  },
  {
   "cell_type": "markdown",
   "id": "4799b42e-1d17-4aa6-a396-8da8a2707189",
   "metadata": {},
   "source": [
    "28. Create a program that sorts three numbers in ascending order using conditional statements"
   ]
  },
  {
   "cell_type": "code",
   "execution_count": 22,
   "id": "b1f88086-ade9-4b24-9b35-6c5bb22f8687",
   "metadata": {},
   "outputs": [
    {
     "name": "stdin",
     "output_type": "stream",
     "text": [
      "Enter first number:  31\n",
      "Enter second number:  32\n",
      "Enter third number:  21\n"
     ]
    },
    {
     "name": "stdout",
     "output_type": "stream",
     "text": [
      "Numbers in ascending order: [21.0, 31.0, 32.0]\n"
     ]
    }
   ],
   "source": [
    "# Input three numbers\n",
    "num1 = float(input(\"Enter first number: \"))\n",
    "num2 = float(input(\"Enter second number: \"))\n",
    "num3 = float(input(\"Enter third number: \"))\n",
    "\n",
    "# Sorting using conditional statements\n",
    "if num1 <= num2 <= num3:\n",
    "    sorted_nums = [num1, num2, num3]\n",
    "elif num1 <= num3 <= num2:\n",
    "    sorted_nums = [num1, num3, num2]\n",
    "elif num2 <= num1 <= num3:\n",
    "    sorted_nums = [num2, num1, num3]\n",
    "elif num2 <= num3 <= num1:\n",
    "    sorted_nums = [num2, num3, num1]\n",
    "elif num3 <= num1 <= num2:\n",
    "    sorted_nums = [num3, num1, num2]\n",
    "else:\n",
    "    sorted_nums = [num3, num2, num1]\n",
    "\n",
    "# Displaying sorted numbers\n",
    "print(\"Numbers in ascending order:\", sorted_nums)\n"
   ]
  },
  {
   "cell_type": "markdown",
   "id": "11080134-da6f-4916-a564-7ad5bf940d36",
   "metadata": {},
   "source": [
    "29. Build a program that determines the roots of a quartic equation using numerical methods."
   ]
  },
  {
   "cell_type": "code",
   "execution_count": 23,
   "id": "ca4a8ac3-d019-4d1d-ae61-2a0ce862f642",
   "metadata": {},
   "outputs": [
    {
     "name": "stdin",
     "output_type": "stream",
     "text": [
      "Enter coefficient 'a':  23\n",
      "Enter coefficient 'b':  32\n",
      "Enter coefficient 'c':  44\n",
      "Enter coefficient 'd':  51\n",
      "Enter constant term 'e':  132\n"
     ]
    },
    {
     "name": "stdout",
     "output_type": "stream",
     "text": [
      "Approximate root of the quartic equation: -1.3702892770164108\n"
     ]
    }
   ],
   "source": [
    "def quartic_equation(a, b, c, d, e, x):\n",
    "    return a * x**4 + b * x**3 + c * x**2 + d * x + e\n",
    "\n",
    "def ruffinis_method(a, b, c, d, e, x):\n",
    "    iterations = 1000\n",
    "    tolerance = 1e-6\n",
    "\n",
    "    for _ in range(iterations):\n",
    "        fx = quartic_equation(a, b, c, d, e, x)\n",
    "        fp = 4 * a * x**3 + 3 * b * x**2 + 2 * c * x + d  # Derivative of the quartic equation\n",
    "\n",
    "        if abs(fx) < tolerance:\n",
    "            break\n",
    "\n",
    "        x = x - fx / fp\n",
    "\n",
    "    return x\n",
    "\n",
    "# Input coefficients for the quartic equation: ax^4 + bx^3 + cx^2 + dx + e = 0\n",
    "a = float(input(\"Enter coefficient 'a': \"))\n",
    "b = float(input(\"Enter coefficient 'b': \"))\n",
    "c = float(input(\"Enter coefficient 'c': \"))\n",
    "d = float(input(\"Enter coefficient 'd': \"))\n",
    "e = float(input(\"Enter constant term 'e': \"))\n",
    "\n",
    "initial_guess = 0.0  # Initial guess for the root\n",
    "root = ruffinis_method(a, b, c, d, e, initial_guess)\n",
    "print(f\"Approximate root of the quartic equation: {root}\")\n"
   ]
  },
  {
   "cell_type": "markdown",
   "id": "62753ece-c8c3-44f8-96ab-b108eefb74d6",
   "metadata": {},
   "source": [
    "30. Write a program that calculates the BMI (Body Mass Index) and provides health recommendations based\n",
    "on the user's input."
   ]
  },
  {
   "cell_type": "code",
   "execution_count": 1,
   "id": "493d3cc2-ef3d-42a9-8081-de584af75b7e",
   "metadata": {},
   "outputs": [
    {
     "name": "stdout",
     "output_type": "stream",
     "text": [
      "Welcome to the BMI Calculator!\n"
     ]
    },
    {
     "name": "stdin",
     "output_type": "stream",
     "text": [
      "Enter your weight in kilograms:  62\n",
      "Enter your height in meters:  1.76\n"
     ]
    },
    {
     "name": "stdout",
     "output_type": "stream",
     "text": [
      "Your BMI is: 20.02\n",
      "Health Recommendation: You are within a healthy weight range. Keep up the good work!\n"
     ]
    }
   ],
   "source": [
    "def calculate_bmi(weight, height):\n",
    "    return weight / (height ** 2)\n",
    "\n",
    "def get_health_recommendation(bmi):\n",
    "    if bmi < 18.5:\n",
    "        return \"You are underweight. It's recommended to gain some weight to reach a healthier range.\"\n",
    "    elif 18.5 <= bmi < 25:\n",
    "        return \"You are within a healthy weight range. Keep up the good work!\"\n",
    "    elif 25 <= bmi < 30:\n",
    "        return \"You are overweight. It's recommended to lose some weight to reach a healthier range.\"\n",
    "    else:\n",
    "        return \"You are obese. It's important to consult a healthcare professional for guidance.\"\n",
    "\n",
    "def main():\n",
    "    print(\"Welcome to the BMI Calculator!\")\n",
    "    weight = float(input(\"Enter your weight in kilograms: \"))\n",
    "    height = float(input(\"Enter your height in meters: \"))\n",
    "\n",
    "    bmi = calculate_bmi(weight, height)\n",
    "    print(f\"Your BMI is: {bmi:.2f}\")\n",
    "    \n",
    "    recommendation = get_health_recommendation(bmi)\n",
    "    print(\"Health Recommendation:\", recommendation)\n",
    "\n",
    "if __name__ == \"__main__\":\n",
    "    main()\n"
   ]
  },
  {
   "cell_type": "markdown",
   "id": "21e209ae-92db-4b43-88e3-1bcee3c1ba11",
   "metadata": {},
   "source": [
    "Challenge Level:"
   ]
  },
  {
   "cell_type": "markdown",
   "id": "12915112-e44a-47e7-9bc8-e92c6f3c048b",
   "metadata": {},
   "source": [
    "31. Create a program that validates a password based on complexity rules (length, characters, etc.)."
   ]
  },
  {
   "cell_type": "code",
   "execution_count": 4,
   "id": "355c1fd8-a646-486f-864a-66c30277da0e",
   "metadata": {},
   "outputs": [
    {
     "name": "stdout",
     "output_type": "stream",
     "text": [
      "Password Complexity Checker\n"
     ]
    },
    {
     "name": "stdin",
     "output_type": "stream",
     "text": [
      "Enter your password:  Naitik@1\n"
     ]
    },
    {
     "name": "stdout",
     "output_type": "stream",
     "text": [
      "Password is valid!\n"
     ]
    }
   ],
   "source": [
    "def validate_password(password):\n",
    "    # Define complexity rules\n",
    "    min_length = 8\n",
    "    special_characters = \"!@#$%^&*()_+-=[]{};:,.<>?/\"\n",
    "    has_upper = any(char.isupper() for char in password)\n",
    "    has_lower = any(char.islower() for char in password)\n",
    "    has_digit = any(char.isdigit() for char in password)\n",
    "    has_special = any(char in special_characters for char in password)\n",
    "\n",
    "    # Check length\n",
    "    if len(password) < min_length:\n",
    "        return False, \"Password length should be at least 8 characters.\"\n",
    "\n",
    "    # Check character types\n",
    "    if not has_upper:\n",
    "        return False, \"Password should contain at least one uppercase letter.\"\n",
    "    if not has_lower:\n",
    "        return False, \"Password should contain at least one lowercase letter.\"\n",
    "    if not has_digit:\n",
    "        return False, \"Password should contain at least one digit.\"\n",
    "    if not has_special:\n",
    "        return False, \"Password should contain at least one special character.\"\n",
    "\n",
    "    return True, \"Password meets complexity rules.\"\n",
    "\n",
    "def main():\n",
    "    print(\"Password Complexity Checker\")\n",
    "    password = input(\"Enter your password: \")\n",
    "\n",
    "    is_valid, message = validate_password(password)\n",
    "    if is_valid:\n",
    "        print(\"Password is valid!\")\n",
    "    else:\n",
    "        print(\"Invalid Password:\", message)\n",
    "\n",
    "if __name__ == \"__main__\":\n",
    "    main()\n"
   ]
  },
  {
   "cell_type": "markdown",
   "id": "ca0118a1-7cae-4bcd-bcea-bdb92cade2af",
   "metadata": {},
   "source": [
    "32. Develop a program that performs matrix addition and subtraction based on user input."
   ]
  },
  {
   "cell_type": "code",
   "execution_count": 10,
   "id": "169c1e52-6f61-40d1-a32d-0eadb6b86f34",
   "metadata": {},
   "outputs": [
    {
     "name": "stdout",
     "output_type": "stream",
     "text": [
      "Matrix Addition and Subtraction Program\n",
      "Enter details for Matrix 1:\n"
     ]
    },
    {
     "name": "stdin",
     "output_type": "stream",
     "text": [
      "Enter the number of rows:  2\n",
      "Enter the number of columns:  2\n"
     ]
    },
    {
     "name": "stdout",
     "output_type": "stream",
     "text": [
      "Enter the elements row-wise:\n"
     ]
    },
    {
     "name": "stdin",
     "output_type": "stream",
     "text": [
      "Enter element [1][1]:  1\n",
      "Enter element [1][2]:  2\n",
      "Enter element [2][1]:  3\n",
      "Enter element [2][2]:  4\n"
     ]
    },
    {
     "name": "stdout",
     "output_type": "stream",
     "text": [
      "\n",
      "Enter details for Matrix 2:\n"
     ]
    },
    {
     "name": "stdin",
     "output_type": "stream",
     "text": [
      "Enter the number of rows:  2\n",
      "Enter the number of columns:  2\n"
     ]
    },
    {
     "name": "stdout",
     "output_type": "stream",
     "text": [
      "Enter the elements row-wise:\n"
     ]
    },
    {
     "name": "stdin",
     "output_type": "stream",
     "text": [
      "Enter element [1][1]:  5\n",
      "Enter element [1][2]:  6\n",
      "Enter element [2][1]:  7\n",
      "Enter element [2][2]:  8\n"
     ]
    },
    {
     "name": "stdout",
     "output_type": "stream",
     "text": [
      "\n",
      "Matrix 1:\n",
      "[1.0, 2.0]\n",
      "[3.0, 4.0]\n",
      "\n",
      "Matrix 2:\n",
      "[5.0, 6.0]\n",
      "[7.0, 8.0]\n",
      "\n",
      "Matrix Addition Result:\n",
      "[6.0, 8.0]\n",
      "[10.0, 12.0]\n",
      "\n",
      "Matrix Subtraction Result:\n",
      "[-4.0, -4.0]\n",
      "[-4.0, -4.0]\n"
     ]
    }
   ],
   "source": [
    "def matrix_addition(matrix1, matrix2):\n",
    "    if len(matrix1) != len(matrix2) or len(matrix1[0]) != len(matrix2[0]):\n",
    "        return None  # Matrices must have the same dimensions for addition\n",
    "    result = []\n",
    "    for i in range(len(matrix1)):\n",
    "        row = []\n",
    "        for j in range(len(matrix1[0])):\n",
    "            row.append(matrix1[i][j] + matrix2[i][j])\n",
    "        result.append(row)\n",
    "    return result\n",
    "\n",
    "def matrix_subtraction(matrix1, matrix2):\n",
    "    if len(matrix1) != len(matrix2) or len(matrix1[0]) != len(matrix2[0]):\n",
    "        return None  # Matrices must have the same dimensions for subtraction\n",
    "    result = []\n",
    "    for i in range(len(matrix1)):\n",
    "        row = []\n",
    "        for j in range(len(matrix1[0])):\n",
    "            row.append(matrix1[i][j] - matrix2[i][j])\n",
    "        result.append(row)\n",
    "    return result\n",
    "\n",
    "def input_matrix():\n",
    "    rows = int(input(\"Enter the number of rows: \"))\n",
    "    columns = int(input(\"Enter the number of columns: \"))\n",
    "    matrix = []\n",
    "    print(\"Enter the elements row-wise:\")\n",
    "    for i in range(rows):\n",
    "        row = []\n",
    "        for j in range(columns):\n",
    "            element = float(input(f\"Enter element [{i+1}][{j+1}]: \"))\n",
    "            row.append(element)\n",
    "        matrix.append(row)\n",
    "    return matrix\n",
    "\n",
    "def print_matrix(matrix):\n",
    "    for row in matrix:\n",
    "        print(row)\n",
    "\n",
    "def main():\n",
    "    print(\"Matrix Addition and Subtraction Program\")\n",
    "    print(\"Enter details for Matrix 1:\")\n",
    "    matrix1 = input_matrix()\n",
    "\n",
    "    print(\"\\nEnter details for Matrix 2:\")\n",
    "    matrix2 = input_matrix()\n",
    "\n",
    "    print(\"\\nMatrix 1:\")\n",
    "    print_matrix(matrix1)\n",
    "\n",
    "    print(\"\\nMatrix 2:\")\n",
    "    print_matrix(matrix2)\n",
    "\n",
    "    # Perform addition\n",
    "    addition_result = matrix_addition(matrix1, matrix2)\n",
    "    if addition_result:\n",
    "        print(\"\\nMatrix Addition Result:\")\n",
    "        print_matrix(addition_result)\n",
    "    else:\n",
    "        print(\"\\nMatrices cannot be added. They have different dimensions.\")\n",
    "\n",
    "    # Perform subtraction\n",
    "    subtraction_result = matrix_subtraction(matrix1, matrix2)\n",
    "    if subtraction_result:\n",
    "        print(\"\\nMatrix Subtraction Result:\")\n",
    "        print_matrix(subtraction_result)\n",
    "    else:\n",
    "        print(\"\\nMatrices cannot be subtracted. They have different dimensions.\")\n",
    "\n",
    "if __name__ == \"__main__\":\n",
    "    main()\n"
   ]
  },
  {
   "cell_type": "markdown",
   "id": "efd9b016-7e81-48fe-88ce-94a045807331",
   "metadata": {},
   "source": [
    "33. Write a program that calculates the greatest common divisor (GCD) of two numbers using the Euclidean\n",
    "algorithm."
   ]
  },
  {
   "cell_type": "code",
   "execution_count": 11,
   "id": "9bced5fb-94c6-42cb-b46c-e2ad94a7727f",
   "metadata": {},
   "outputs": [
    {
     "name": "stdin",
     "output_type": "stream",
     "text": [
      "enter the first number 34\n",
      "enter the second number 56\n"
     ]
    },
    {
     "name": "stdout",
     "output_type": "stream",
     "text": [
      " The GCD of 34 and 56 is 2\n"
     ]
    }
   ],
   "source": [
    "def euclidean_gcd(a, b):\n",
    "    while b:\n",
    "        a, b = b, a % b\n",
    "    return a\n",
    "\n",
    "num1 = int(input(\"enter the first number\"))\n",
    "num2 = int(input(\"enter the second number\"))\n",
    "\n",
    "gcd = euclidean_gcd(num1, num2)\n",
    "\n",
    "print(f\" The GCD of {num1} and {num2} is {gcd}\")"
   ]
  },
  {
   "cell_type": "markdown",
   "id": "8b093dab-7290-4ec0-a2ff-d358206da2f3",
   "metadata": {},
   "source": [
    "34. Build a program that performs matrix multiplication using nested loops and conditional statements"
   ]
  },
  {
   "cell_type": "code",
   "execution_count": 12,
   "id": "988b796c-ef0a-4b47-9ab0-b5dbc5f388e7",
   "metadata": {},
   "outputs": [
    {
     "name": "stdout",
     "output_type": "stream",
     "text": [
      "[30, 24, 18]\n",
      "[84, 69, 54]\n",
      "[138, 114, 90]\n"
     ]
    }
   ],
   "source": [
    "matrix1 = [[1, 2, 3],\n",
    "           [4, 5, 6],\n",
    "           [7, 8, 9]]\n",
    "\n",
    "matrix2 = [[9, 8, 7],\n",
    "           [6, 5, 4],\n",
    "           [3, 2, 1]]\n",
    "\n",
    "result = [[0, 0, 0],\n",
    "          [0, 0, 0],\n",
    "          [0, 0, 0]]\n",
    "\n",
    "\n",
    "for i in range(len(matrix1)):\n",
    "    for j in range(len(matrix2[0])):\n",
    "        for k in range(len(matrix2)):\n",
    "            result[i][j] += matrix1[i][k] * matrix2[k][j]\n",
    "            \n",
    "            \n",
    "for row in result:\n",
    "    print(row)"
   ]
  },
  {
   "cell_type": "markdown",
   "id": "5901bdc6-cbd1-4dd8-86bc-8c82ed4f2580",
   "metadata": {},
   "source": [
    "35. Create a program that simulates a basic text-based tic-tac-toe game against the computer"
   ]
  },
  {
   "cell_type": "code",
   "execution_count": 15,
   "id": "7dcaec71-8e09-46d7-a8e9-479d2ff0afb1",
   "metadata": {},
   "outputs": [
    {
     "name": "stdout",
     "output_type": "stream",
     "text": [
      "Welcome to Tic-Tac-Toe against the computer!\n",
      "  |   |  \n",
      "---------\n",
      "  |   |  \n",
      "---------\n",
      "  |   |  \n",
      "---------\n"
     ]
    },
    {
     "name": "stdin",
     "output_type": "stream",
     "text": [
      "Enter row (1-3):  2\n",
      "Enter column (1-3):  2\n"
     ]
    },
    {
     "name": "stdout",
     "output_type": "stream",
     "text": [
      "  |   |  \n",
      "---------\n",
      "  | X |  \n",
      "---------\n",
      "  |   |  \n",
      "---------\n",
      "Computer chooses row 1, column 2\n",
      "  | O |  \n",
      "---------\n",
      "  | X |  \n",
      "---------\n",
      "  |   |  \n",
      "---------\n"
     ]
    },
    {
     "name": "stdin",
     "output_type": "stream",
     "text": [
      "Enter row (1-3):  3\n",
      "Enter column (1-3):  2\n"
     ]
    },
    {
     "name": "stdout",
     "output_type": "stream",
     "text": [
      "  | O |  \n",
      "---------\n",
      "  | X |  \n",
      "---------\n",
      "  | X |  \n",
      "---------\n",
      "Computer chooses row 1, column 3\n",
      "  | O | O\n",
      "---------\n",
      "  | X |  \n",
      "---------\n",
      "  | X |  \n",
      "---------\n"
     ]
    },
    {
     "name": "stdin",
     "output_type": "stream",
     "text": [
      "Enter row (1-3):  1\n",
      "Enter column (1-3):  1\n"
     ]
    },
    {
     "name": "stdout",
     "output_type": "stream",
     "text": [
      "X | O | O\n",
      "---------\n",
      "  | X |  \n",
      "---------\n",
      "  | X |  \n",
      "---------\n",
      "Computer chooses row 2, column 1\n",
      "X | O | O\n",
      "---------\n",
      "O | X |  \n",
      "---------\n",
      "  | X |  \n",
      "---------\n"
     ]
    },
    {
     "name": "stdin",
     "output_type": "stream",
     "text": [
      "Enter row (1-3):  3\n",
      "Enter column (1-3):  3\n"
     ]
    },
    {
     "name": "stdout",
     "output_type": "stream",
     "text": [
      "X | O | O\n",
      "---------\n",
      "O | X |  \n",
      "---------\n",
      "  | X | X\n",
      "---------\n",
      "Player X wins!\n"
     ]
    }
   ],
   "source": [
    "import random\n",
    "\n",
    "def print_board(board):\n",
    "    for row in board:\n",
    "        print(\" | \".join(row))\n",
    "        print(\"-\" * 9)\n",
    "\n",
    "def check_winner(board, player):\n",
    "    for row in board:\n",
    "        if all(cell == player for cell in row):\n",
    "            return True\n",
    "\n",
    "    for col in range(3):\n",
    "        if all(board[row][col] == player for row in range(3)):\n",
    "            return True\n",
    "\n",
    "    if all(board[i][i] == player for i in range(3)) or all(board[i][2 - i] == player for i in range(3)):\n",
    "        return True\n",
    "\n",
    "    return False\n",
    "\n",
    "def computer_move(board):\n",
    "    empty_cells = [(i, j) for i in range(3) for j in range(3) if board[i][j] == \" \"]\n",
    "    return random.choice(empty_cells)\n",
    "\n",
    "def main():\n",
    "    board = [[\" \" for _ in range(3)] for _ in range(3)]\n",
    "    player = \"X\"\n",
    "    game_over = False\n",
    "\n",
    "    print(\"Welcome to Tic-Tac-Toe against the computer!\")\n",
    "    print_board(board)\n",
    "\n",
    "    while not game_over:\n",
    "        if player == \"X\":\n",
    "            row = int(input(\"Enter row (1-3): \")) - 1\n",
    "            col = int(input(\"Enter column (1-3): \")) - 1\n",
    "            if board[row][col] == \" \":\n",
    "                board[row][col] = \"X\"\n",
    "            else:\n",
    "                print(\"That spot is already taken. Try again.\")\n",
    "                continue\n",
    "        else:\n",
    "            row, col = computer_move(board)\n",
    "            board[row][col] = \"O\"\n",
    "            print(f\"Computer chooses row {row + 1}, column {col + 1}\")\n",
    "\n",
    "        print_board(board)\n",
    "\n",
    "        if check_winner(board, player):\n",
    "            print(f\"Player {player} wins!\")\n",
    "            game_over = True\n",
    "        elif all(all(cell != \" \" for cell in row) for row in board):\n",
    "            print(\"It's a tie!\")\n",
    "            game_over = True\n",
    "        else:\n",
    "            player = \"O\" if player == \"X\" else \"X\"\n",
    "\n",
    "if __name__ == \"__main__\":\n",
    "    main()\n"
   ]
  },
  {
   "cell_type": "markdown",
   "id": "60c4ffc8-43fd-4cc3-9808-0b71fe28066d",
   "metadata": {},
   "source": [
    "36. Write a program that generates Fibonacci numbers up to a specified term using iterative methods."
   ]
  },
  {
   "cell_type": "code",
   "execution_count": 7,
   "id": "2da5d164-6523-430d-aaf7-d63726a5c9cb",
   "metadata": {},
   "outputs": [
    {
     "name": "stdin",
     "output_type": "stream",
     "text": [
      "Enter the number of terms for the Fibonacci sequence:  10\n"
     ]
    },
    {
     "name": "stdout",
     "output_type": "stream",
     "text": [
      "Fibonacci sequence up to term 10 is:\n",
      "[0, 1, 1, 2, 3, 5, 8, 13, 21, 34]\n"
     ]
    }
   ],
   "source": [
    "def generate_fibonacci(n):\n",
    "    fibonacci_sequence = []\n",
    "    a, b = 0, 1\n",
    "\n",
    "    for _ in range(n):\n",
    "        fibonacci_sequence.append(a)\n",
    "        a, b = b, a + b\n",
    "\n",
    "    return fibonacci_sequence\n",
    "\n",
    "def main():\n",
    "    term = int(input(\"Enter the number of terms for the Fibonacci sequence: \"))\n",
    "    if term <= 0:\n",
    "        print(\"Please enter a positive number.\")\n",
    "        return\n",
    "\n",
    "    fibonacci_numbers = generate_fibonacci(term)\n",
    "    print(f\"Fibonacci sequence up to term {term} is:\")\n",
    "    print(fibonacci_numbers)\n",
    "\n",
    "if __name__ == \"__main__\":\n",
    "    main()\n"
   ]
  },
  {
   "cell_type": "markdown",
   "id": "e41bfd8e-a1ca-43aa-8c40-d2ad4533cd74",
   "metadata": {},
   "source": [
    "37. Develop a program that calculates the nth term of the Fibonacci sequence using memoization."
   ]
  },
  {
   "cell_type": "code",
   "execution_count": 9,
   "id": "598e3c44-906c-476f-9721-a8e63500c3ce",
   "metadata": {},
   "outputs": [
    {
     "name": "stdin",
     "output_type": "stream",
     "text": [
      "Enter the term of the Fibonacci sequence to calculate:  7\n"
     ]
    },
    {
     "name": "stdout",
     "output_type": "stream",
     "text": [
      "The 7th term of the Fibonacci sequence is: 13\n"
     ]
    }
   ],
   "source": [
    "def fibonacci(n, memo={}):\n",
    "    if n in memo:\n",
    "        return memo[n]\n",
    "    if n <= 1:\n",
    "        return n\n",
    "\n",
    "    memo[n] = fibonacci(n - 1, memo) + fibonacci(n - 2, memo)\n",
    "    return memo[n]\n",
    "\n",
    "def main():\n",
    "    term = int(input(\"Enter the term of the Fibonacci sequence to calculate: \"))\n",
    "    if term < 0:\n",
    "        print(\"Please enter a non-negative number.\")\n",
    "        return\n",
    "\n",
    "    result = fibonacci(term)\n",
    "    print(f\"The {term}th term of the Fibonacci sequence is: {result}\")\n",
    "\n",
    "if __name__ == \"__main__\":\n",
    "    main()\n"
   ]
  },
  {
   "cell_type": "markdown",
   "id": "64df47fe-1670-4404-a963-8f64b7150f57",
   "metadata": {},
   "source": [
    "38. Create a program that generates a calendar for a given month and year using conditional statements."
   ]
  },
  {
   "cell_type": "code",
   "execution_count": 10,
   "id": "39b17ec0-e245-4202-bd83-11ccc0f05ec7",
   "metadata": {},
   "outputs": [
    {
     "name": "stdin",
     "output_type": "stream",
     "text": [
      "Enter the year 1998\n",
      "Enter the month (1-12) 11\n"
     ]
    },
    {
     "name": "stdout",
     "output_type": "stream",
     "text": [
      "\n",
      "calendar:\n",
      "   November 1998\n",
      "Mo Tu We Th Fr Sa Su\n",
      "                   1\n",
      " 2  3  4  5  6  7  8\n",
      " 9 10 11 12 13 14 15\n",
      "16 17 18 19 20 21 22\n",
      "23 24 25 26 27 28 29\n",
      "30\n",
      "\n"
     ]
    }
   ],
   "source": [
    "import calendar\n",
    "\n",
    "year = int(input(\"Enter the year\"))\n",
    "month = int(input(\"Enter the month (1-12)\"))\n",
    "\n",
    "if month < 1 or month >12:\n",
    "    print(\"Invalid month.please enter a number between 1 and 12\")\n",
    "    \n",
    "else:\n",
    "    cal = calendar.month(year, month)\n",
    "    \n",
    "    \n",
    "    print(\"\\ncalendar:\")\n",
    "    print(cal)"
   ]
  },
  {
   "cell_type": "markdown",
   "id": "8c1b3cff-ab61-4489-9762-1cb5d2941a1d",
   "metadata": {},
   "source": [
    "39. Build a program that simulates a basic text-based blackjack game against the computer."
   ]
  },
  {
   "cell_type": "code",
   "execution_count": 12,
   "id": "a4d9c495-44d7-454f-8164-861e8adf3567",
   "metadata": {},
   "outputs": [
    {
     "name": "stdout",
     "output_type": "stream",
     "text": [
      "Welcome to Blackjack!\n",
      "Your cards: [8, 10], current score: 18\n",
      "Computer's first card: 5\n"
     ]
    },
    {
     "name": "stdin",
     "output_type": "stream",
     "text": [
      "Do you want to draw another card? 'y' or 'n':  y\n"
     ]
    },
    {
     "name": "stdout",
     "output_type": "stream",
     "text": [
      "Your cards: [8, 10, 6], current score: 24\n",
      "Your final hand: [8, 10, 6], final score: 24\n",
      "Computer's final hand: [5, 9, 1, 9], final score: 24\n",
      "You went over. You lose!\n"
     ]
    }
   ],
   "source": [
    "import random\n",
    "\n",
    "def deal_card():\n",
    "    cards = [2, 3, 4, 5, 6, 7, 8, 9, 10, 10, 10, 10, 11]\n",
    "    return random.choice(cards)\n",
    "\n",
    "def calculate_score(cards):\n",
    "    score = sum(cards)\n",
    "    if score > 21 and 11 in cards:\n",
    "        cards.remove(11)\n",
    "        cards.append(1)\n",
    "        score = sum(cards)\n",
    "    return score\n",
    "\n",
    "def main():\n",
    "    print(\"Welcome to Blackjack!\")\n",
    "\n",
    "    player_cards = []\n",
    "    computer_cards = []\n",
    "\n",
    "    for _ in range(2):\n",
    "        player_cards.append(deal_card())\n",
    "        computer_cards.append(deal_card())\n",
    "\n",
    "    player_score = calculate_score(player_cards)\n",
    "    computer_score = calculate_score(computer_cards)\n",
    "\n",
    "    print(f\"Your cards: {player_cards}, current score: {player_score}\")\n",
    "    print(f\"Computer's first card: {computer_cards[0]}\")\n",
    "\n",
    "    while player_score < 21:\n",
    "        choice = input(\"Do you want to draw another card? 'y' or 'n': \").lower()\n",
    "        if choice == 'y':\n",
    "            player_cards.append(deal_card())\n",
    "            player_score = calculate_score(player_cards)\n",
    "            print(f\"Your cards: {player_cards}, current score: {player_score}\")\n",
    "        else:\n",
    "            break\n",
    "\n",
    "    while computer_score < 17:\n",
    "        computer_cards.append(deal_card())\n",
    "        computer_score = calculate_score(computer_cards)\n",
    "\n",
    "    print(f\"Your final hand: {player_cards}, final score: {player_score}\")\n",
    "    print(f\"Computer's final hand: {computer_cards}, final score: {computer_score}\")\n",
    "\n",
    "    if player_score > 21:\n",
    "        print(\"You went over. You lose!\")\n",
    "    elif computer_score > 21:\n",
    "        print(\"Computer went over. You win!\")\n",
    "    elif player_score > computer_score:\n",
    "        print(\"You win!\")\n",
    "    elif player_score < computer_score:\n",
    "        print(\"You lose!\")\n",
    "    else:\n",
    "        print(\"It's a draw!\")\n",
    "\n",
    "if __name__ == \"__main__\":\n",
    "    main()\n"
   ]
  },
  {
   "cell_type": "markdown",
   "id": "0b5b729f-0a17-4904-a933-f17ccc44bbea",
   "metadata": {},
   "source": [
    "40. Write a program that generates the prime factors of a given number using trial division.\n"
   ]
  },
  {
   "cell_type": "code",
   "execution_count": 13,
   "id": "6d706f02-365b-44c4-83e6-ac051293ceeb",
   "metadata": {},
   "outputs": [
    {
     "name": "stdin",
     "output_type": "stream",
     "text": [
      "Enter a number to find its prime factors:  23\n"
     ]
    },
    {
     "name": "stdout",
     "output_type": "stream",
     "text": [
      "23 is a prime number.\n"
     ]
    }
   ],
   "source": [
    "def prime_factors(n):\n",
    "    factors = []\n",
    "    divisor = 2\n",
    "\n",
    "    while n > 1:\n",
    "        while n % divisor == 0:\n",
    "            factors.append(divisor)\n",
    "            n //= divisor\n",
    "        divisor += 1\n",
    "\n",
    "    return factors\n",
    "\n",
    "def main():\n",
    "    number = int(input(\"Enter a number to find its prime factors: \"))\n",
    "\n",
    "    if number <= 1:\n",
    "        print(\"Please enter a number greater than 1.\")\n",
    "    else:\n",
    "        result = prime_factors(number)\n",
    "        if len(result) == 0 or result == [number]:\n",
    "            print(f\"{number} is a prime number.\")\n",
    "        else:\n",
    "            print(f\"The prime factors of {number} are: {result}\")\n",
    "\n",
    "if __name__ == \"__main__\":\n",
    "    main()\n"
   ]
  },
  {
   "cell_type": "code",
   "execution_count": null,
   "id": "f4e583ee-33d8-48ba-994f-04253e8f8849",
   "metadata": {},
   "outputs": [],
   "source": []
  }
 ],
 "metadata": {
  "kernelspec": {
   "display_name": "Python 3 (ipykernel)",
   "language": "python",
   "name": "python3"
  },
  "language_info": {
   "codemirror_mode": {
    "name": "ipython",
    "version": 3
   },
   "file_extension": ".py",
   "mimetype": "text/x-python",
   "name": "python",
   "nbconvert_exporter": "python",
   "pygments_lexer": "ipython3",
   "version": "3.10.8"
  }
 },
 "nbformat": 4,
 "nbformat_minor": 5
}
