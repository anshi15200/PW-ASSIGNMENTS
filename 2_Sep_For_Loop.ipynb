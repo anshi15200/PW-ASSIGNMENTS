{
 "cells": [
  {
   "cell_type": "markdown",
   "id": "8ea905ce-ad6f-4d74-b2ee-5f3bb89fcabb",
   "metadata": {},
   "source": [
    "Basic Level:"
   ]
  },
  {
   "cell_type": "markdown",
   "id": "ac8caa24-fe46-4cc8-98cb-3fa7402b1de1",
   "metadata": {},
   "source": [
    "1. Write a Python program to print the numbers from 1 to 10 using a `for` loop."
   ]
  },
  {
   "cell_type": "code",
   "execution_count": 3,
   "id": "e9d3ba6b-efab-4155-b6b9-73d0116a05fa",
   "metadata": {},
   "outputs": [
    {
     "name": "stdout",
     "output_type": "stream",
     "text": [
      "1 2 3 4 5 6 7 8 9 10 "
     ]
    }
   ],
   "source": [
    "for i in range(1,11):\n",
    "    print(i,end=\" \")"
   ]
  },
  {
   "cell_type": "markdown",
   "id": "e24d0ac4-d690-4cc6-a208-ebfe03da6509",
   "metadata": {},
   "source": [
    "2. Create a program that calculates the sum of all numbers in a list using a `for` loop."
   ]
  },
  {
   "cell_type": "code",
   "execution_count": 4,
   "id": "c140eb78-62a3-4321-9cc6-5b877a49ed4b",
   "metadata": {},
   "outputs": [
    {
     "name": "stdout",
     "output_type": "stream",
     "text": [
      "The total sum of the numbers is: 14\n"
     ]
    }
   ],
   "source": [
    "# Initialize a list of numbers:\n",
    "lst = [1,2,3,4,4]\n",
    "# Initialize a variable to sum:\n",
    "total_sum = 0\n",
    "#Iterate through the list:\n",
    "for num in lst:\n",
    "    total_sum += num\n",
    "# print the result:    \n",
    "print(\"The total sum of the numbers is:\",total_sum)"
   ]
  },
  {
   "cell_type": "markdown",
   "id": "550dfe19-270d-4eea-8a29-2d4a9d935b5c",
   "metadata": {},
   "source": [
    "3. Write a program to print the characters of a string in reverse order using a `for` loop."
   ]
  },
  {
   "cell_type": "code",
   "execution_count": 6,
   "id": "c0852fde-3988-4aff-a072-f02dfa96916c",
   "metadata": {},
   "outputs": [
    {
     "name": "stdout",
     "output_type": "stream",
     "text": [
      "original sytring: Anmol\n",
      "Reversed string: lomnA\n"
     ]
    }
   ],
   "source": [
    "# input a string:\n",
    "string = \"Anmol\"\n",
    "# initialize an empty string to store the reversed characters:\n",
    "reversed_string = \"\"\n",
    "#iterate through the string in reverse order using for loop:\n",
    "for char in reversed(string):\n",
    "    reversed_string += char\n",
    "#print the reversed string:\n",
    "print(\"original sytring:\",string)\n",
    "print(\"Reversed string:\",reversed_string)"
   ]
  },
  {
   "cell_type": "markdown",
   "id": "45d8e1c9-f3b0-41d2-b043-dce9d061c212",
   "metadata": {},
   "source": [
    "4. Develop a program that finds the factorial of a given number using a `for` loop."
   ]
  },
  {
   "cell_type": "code",
   "execution_count": 8,
   "id": "ec0043f1-8952-4a05-b452-fe117517e9cb",
   "metadata": {},
   "outputs": [
    {
     "name": "stdin",
     "output_type": "stream",
     "text": [
      "Enter a num to find its factorial:  5\n"
     ]
    },
    {
     "name": "stdout",
     "output_type": "stream",
     "text": [
      "the factorial of 5 is 120\n"
     ]
    }
   ],
   "source": [
    "# get the number from the user:\n",
    "num = int(input(\"Enter a num to find its factorial: \"))\n",
    "\n",
    "# Initialize the factorial to 1:\n",
    "factorial = 1\n",
    "# check if the num is neg,zero or pos:\n",
    "if num < 0:\n",
    "    print(\"factorial is not defined for negative numbers.\")\n",
    "elif num == 0:\n",
    "    print(\"The factorial of 0 is 1\")\n",
    "else:\n",
    "    #calculate the factorial using a for loop;\n",
    "    for i in range(1,num + 1):\n",
    "        factorial *= i\n",
    "    #print the result:\n",
    "    print(f\"the factorial of {num} is {factorial}\")"
   ]
  },
  {
   "cell_type": "markdown",
   "id": "2c19824e-4de6-45a8-b4e9-6e95c90786e6",
   "metadata": {},
   "source": [
    "5. Create a program to print the multiplication table of a given number using a `for` loop."
   ]
  },
  {
   "cell_type": "code",
   "execution_count": 9,
   "id": "e0724b9f-4fde-48c7-8f1a-31187609eb14",
   "metadata": {},
   "outputs": [
    {
     "name": "stdin",
     "output_type": "stream",
     "text": [
      "Enter a num to print its multiplication table:  2\n"
     ]
    },
    {
     "name": "stdout",
     "output_type": "stream",
     "text": [
      "Multiplication table for 2 is:\n",
      "2 x 1 = 2\n",
      "2 x 2 = 4\n",
      "2 x 3 = 6\n",
      "2 x 4 = 8\n",
      "2 x 5 = 10\n",
      "2 x 6 = 12\n",
      "2 x 7 = 14\n",
      "2 x 8 = 16\n",
      "2 x 9 = 18\n",
      "2 x 10 = 20\n"
     ]
    }
   ],
   "source": [
    "# input : Get the num from user for which you want to print the multiplication table:\n",
    "num = int(input(\"Enter a num to print its multiplication table: \"))\n",
    "#print the multiplication table using a for loop:\n",
    "print(\"Multiplication table for\",num,\"is:\")\n",
    "for i in range(1,11):\n",
    "    product = num*i\n",
    "    print(f\"{num} x {i} = {product}\" )"
   ]
  },
  {
   "cell_type": "markdown",
   "id": "81d86b6b-36d8-44d7-80c3-aa110fd13906",
   "metadata": {},
   "source": [
    "6. Write a program that counts the number of even and odd numbers in a list using a `for` loop."
   ]
  },
  {
   "cell_type": "code",
   "execution_count": 1,
   "id": "1af407cd-3315-4bc1-b43a-a475af8c7703",
   "metadata": {},
   "outputs": [
    {
     "name": "stdout",
     "output_type": "stream",
     "text": [
      "the count of even numbers : 4\n",
      "the count of odd numbers : 5\n"
     ]
    }
   ],
   "source": [
    "#define a list:\n",
    "lst = [1,2,3,4,5,6,7,8,9]\n",
    "#intialize counters for even and odd numbers:\n",
    "even_count = 0\n",
    "odd_count = 0\n",
    "for i in lst:\n",
    "    if i%2 == 0:\n",
    "        even_count += 1\n",
    "    else:\n",
    "        odd_count += 1\n",
    "        \n",
    "print(\"the count of even numbers :\",even_count)\n",
    "print(\"the count of odd numbers :\",odd_count)"
   ]
  },
  {
   "cell_type": "markdown",
   "id": "18754b44-6b29-450d-a488-db4670e14daf",
   "metadata": {},
   "source": [
    "7. Develop a program that prints the squares of numbers from 1 to 5 using a `for` loop."
   ]
  },
  {
   "cell_type": "code",
   "execution_count": 2,
   "id": "e176f579-0a3a-4381-83b0-f00986764171",
   "metadata": {},
   "outputs": [
    {
     "name": "stdout",
     "output_type": "stream",
     "text": [
      "1 4 9 16 25 "
     ]
    }
   ],
   "source": [
    "for i in range(1,6):\n",
    "    square = i**2\n",
    "    print(square,end = ' ')"
   ]
  },
  {
   "cell_type": "markdown",
   "id": "6337dd3a-92a8-4f5a-b9df-53b7fab8f824",
   "metadata": {},
   "source": [
    "8. Create a program to find the length of a string without using the `len()` function."
   ]
  },
  {
   "cell_type": "code",
   "execution_count": 3,
   "id": "55dd5486-10e8-4a03-a792-4605cb16c59a",
   "metadata": {},
   "outputs": [
    {
     "name": "stdout",
     "output_type": "stream",
     "text": [
      "the length of Anmol is 5 .\n"
     ]
    }
   ],
   "source": [
    "# Example string:\n",
    "string = \"Anmol\"\n",
    "# intitialize a variable count:\n",
    "count = 0\n",
    "# iterate throgh the string using for loop:\n",
    "for char in string:\n",
    "    count += 1\n",
    "# print the length of string:\n",
    "print(f\"the length of {string} is {count} .\")"
   ]
  },
  {
   "cell_type": "markdown",
   "id": "6f337412-6bfe-4199-ac45-ee2ad48560b3",
   "metadata": {},
   "source": [
    "9. Write a program that calculates the average of a list of numbers using a `for` loop."
   ]
  },
  {
   "cell_type": "code",
   "execution_count": 5,
   "id": "316c824b-98da-4c83-8bb3-fcbaa9239479",
   "metadata": {},
   "outputs": [
    {
     "name": "stdout",
     "output_type": "stream",
     "text": [
      "list of numbers: [20, 40, 60, 50]\n",
      "Average: 42.5\n"
     ]
    }
   ],
   "source": [
    "lst = [20,40,60,50]\n",
    "total_sum = 0\n",
    "count = 0\n",
    "for num in lst:\n",
    "    total_sum += num\n",
    "    count += 1\n",
    "    \n",
    "if count == 0:\n",
    "    print(\"The list is empty,can not calculate the average.\")\n",
    "else:\n",
    "    #calculate average:\n",
    "    average = total_sum/count\n",
    "    \n",
    "    #print the result.\n",
    "    print(\"list of numbers:\",lst)\n",
    "    print(\"Average:\",average)"
   ]
  },
  {
   "cell_type": "markdown",
   "id": "b47e8da9-63dd-43a6-b118-56c40162bc5a",
   "metadata": {},
   "source": [
    "10. Develop a program that prints the first `n` Fibonacci numbers using a `for` loop."
   ]
  },
  {
   "cell_type": "code",
   "execution_count": 6,
   "id": "1a0a1280-0bb2-4392-aa80-9276d1fa04ba",
   "metadata": {},
   "outputs": [
    {
     "name": "stdin",
     "output_type": "stream",
     "text": [
      "Enter the number of fibonacci numbers to generate:  6\n"
     ]
    },
    {
     "name": "stdout",
     "output_type": "stream",
     "text": [
      "First 6 fibonacci numbers: \n",
      "0 1 1 2 3 5 "
     ]
    }
   ],
   "source": [
    "# Get the values of n from user:\n",
    "n = int(input(\"Enter the number of fibonacci numbers to generate: \"))\n",
    "\n",
    "#Initialize variables for the first two fibonacci numbers:\n",
    "fibonacci_seq = [0,1]\n",
    "\n",
    "# Generate the fibonaci numbers using a for loop:\n",
    "for i in range(2,n):\n",
    "    next_fibonacci = fibonacci_seq[-1] + fibonacci_seq[-2]\n",
    "    fibonacci_seq.append(next_fibonacci)\n",
    "    \n",
    "# print the first n fibonacci numbers\n",
    "print(\"First\",n,\"fibonacci numbers: \")\n",
    "for num in fibonacci_seq:\n",
    "    print(num,end = ' ')"
   ]
  },
  {
   "cell_type": "markdown",
   "id": "bcb5ec11-0ad6-4e69-8456-5091ff5d5010",
   "metadata": {},
   "source": [
    "Intermediate Level:"
   ]
  },
  {
   "cell_type": "markdown",
   "id": "666b20ec-d61b-4963-be63-0d7d5539329c",
   "metadata": {},
   "source": [
    "11. Write a program to check if a given list contains any duplicates using a `for` loop."
   ]
  },
  {
   "cell_type": "code",
   "execution_count": 7,
   "id": "df7176ea-5af4-4cda-9985-908c5a8d8443",
   "metadata": {},
   "outputs": [
    {
     "name": "stdout",
     "output_type": "stream",
     "text": [
      "The list contains duplicates.\n"
     ]
    }
   ],
   "source": [
    "# given list:\n",
    "my_list = [1,2,3,4,5,1]\n",
    "\n",
    "# flag to indicate if duplicates are found:\n",
    "has_duplicates = False\n",
    "\n",
    "# Iterate through the list using a for loop:\n",
    "for i in range(len(my_list)):\n",
    "    item = my_list[i]\n",
    "    if my_list.count(item) > 1:\n",
    "        has_duplicates = True\n",
    "        break  #Exit the loop if a duplicate is found.\n",
    "        \n",
    "# check if duplicates were found and print the result:\n",
    "if has_duplicates:\n",
    "    print(\"The list contains duplicates.\")\n",
    "else:\n",
    "    print(\"The list does not contain duplicates.\")\n",
    "        "
   ]
  },
  {
   "cell_type": "markdown",
   "id": "e525c562-dfe0-49ac-a773-640f7f7bf8c0",
   "metadata": {},
   "source": [
    "12. Create a program that prints the prime numbers in a given range using a `for` loop."
   ]
  },
  {
   "cell_type": "code",
   "execution_count": 8,
   "id": "ef5beb5f-37e1-4159-8702-3cf952ca501e",
   "metadata": {},
   "outputs": [
    {
     "name": "stdout",
     "output_type": "stream",
     "text": [
      "Prime numbers between 900 and 1000 are :\n",
      "907 911 919 929 937 941 947 953 967 971 977 983 991 997 "
     ]
    }
   ],
   "source": [
    "# python program to display all the prime numbers within an interval:\n",
    "\n",
    "lower = 900\n",
    "upper = 1000\n",
    "\n",
    "print(\"Prime numbers between\",lower,\"and\",upper,\"are :\")\n",
    "\n",
    "for num in range(lower,upper + 1):\n",
    "    # all prime numbers are greater than one:\n",
    "    if num >1:\n",
    "        for i in range(2,int(num**0.5) + 1):\n",
    "            if (num % i) == 0:\n",
    "                break\n",
    "        else:\n",
    "            print(num,end = \" \")"
   ]
  },
  {
   "cell_type": "markdown",
   "id": "8ceb5519-a0ff-4479-99ba-4e45e8d15a94",
   "metadata": {},
   "source": [
    "13. Develop a program that counts the number of vowels in a string using a `for` loop."
   ]
  },
  {
   "cell_type": "code",
   "execution_count": 9,
   "id": "e079c5b2-a04e-4426-b653-86cb72664181",
   "metadata": {},
   "outputs": [
    {
     "name": "stdout",
     "output_type": "stream",
     "text": [
      "3\n"
     ]
    }
   ],
   "source": [
    "string = \"master mind\"\n",
    "vowels =\"aeiou\"\n",
    "string = string.casefold()\n",
    "vowel_count = 0\n",
    "for i in string:\n",
    "    if i in vowels:\n",
    "        vowel_count += 1\n",
    "print(vowel_count)"
   ]
  },
  {
   "cell_type": "markdown",
   "id": "cbb387b1-ff8a-4fef-b22e-68f411af2e94",
   "metadata": {},
   "source": [
    "14. Write a program to find the maximum element in a 2D list using a nested `for` loop."
   ]
  },
  {
   "cell_type": "code",
   "execution_count": 10,
   "id": "f30b9c35-d239-4c9e-9abd-243e0dc4550d",
   "metadata": {},
   "outputs": [
    {
     "name": "stdout",
     "output_type": "stream",
     "text": [
      "-inf\n",
      "The maximum element in the 2D list is: 9\n"
     ]
    }
   ],
   "source": [
    "# sample 2D list\n",
    "matrix = [\n",
    "    [1,2,3],\n",
    "    [4,5,6],\n",
    "    [7,8,9]\n",
    "]\n",
    "\n",
    "# Initialize max_element with the minimum possible value:\n",
    "max_element = float('-inf')\n",
    "print(max_element)\n",
    "# Nested for loop to iterate through the 2D list\n",
    "for row in matrix:\n",
    "    for element in row:\n",
    "        if element > max_element:\n",
    "            max_element = element\n",
    "\n",
    "print(f\"The maximum element in the 2D list is: {max_element}\")"
   ]
  },
  {
   "cell_type": "markdown",
   "id": "520319dd-fc95-4a9e-aa9c-fa863bf722ed",
   "metadata": {},
   "source": [
    "15. Create a program that removes all occurrences of a specific element from a list using a `for` loop."
   ]
  },
  {
   "cell_type": "code",
   "execution_count": 11,
   "id": "ec542e6b-e5f6-4b3e-9ec5-517ce5f6bdd8",
   "metadata": {},
   "outputs": [
    {
     "name": "stdin",
     "output_type": "stream",
     "text": [
      "Enter the element to remove : 2\n"
     ]
    },
    {
     "name": "stdout",
     "output_type": "stream",
     "text": [
      "List after removing all occurences of  2 : [1, 3, 4, 5]\n"
     ]
    }
   ],
   "source": [
    "# Given list:\n",
    "my_list = [1,2,3,4,2,5,2]\n",
    " \n",
    "# element to remove\n",
    "element_to_remove = int(input(\"Enter the element to remove :\"))\n",
    "\n",
    "#Use a for loop to remove all occurences of the element:\n",
    "# we iterate in reverse to avoid issues with shifting elements:\n",
    "for i in range(len(my_list) -1,-1,-1):\n",
    "    if my_list[i] == element_to_remove:\n",
    "        my_list.pop(i)\n",
    "        \n",
    "# print the list after removal\n",
    "print(\"List after removing all occurences of \",element_to_remove,\":\",my_list)"
   ]
  },
  {
   "cell_type": "markdown",
   "id": "5ea94969-8b97-4ce8-bcf6-9b6ba9995c25",
   "metadata": {},
   "source": [
    "16. Develop a program that generates a multiplication table for numbers from 1 to 5 using a nested `for` loop."
   ]
  },
  {
   "cell_type": "code",
   "execution_count": 12,
   "id": "bd34b521-be9b-4121-bfb2-9f28842f47d5",
   "metadata": {},
   "outputs": [
    {
     "name": "stdout",
     "output_type": "stream",
     "text": [
      "Multiplication table for 1 :\n",
      "1 x 1 = 1\n",
      "1 x 2 = 2\n",
      "1 x 3 = 3\n",
      "1 x 4 = 4\n",
      "1 x 5 = 5\n",
      "1 x 6 = 6\n",
      "1 x 7 = 7\n",
      "1 x 8 = 8\n",
      "1 x 9 = 9\n",
      "1 x 10 = 10\n",
      "\n",
      "Multiplication table for 2 :\n",
      "2 x 1 = 2\n",
      "2 x 2 = 4\n",
      "2 x 3 = 6\n",
      "2 x 4 = 8\n",
      "2 x 5 = 10\n",
      "2 x 6 = 12\n",
      "2 x 7 = 14\n",
      "2 x 8 = 16\n",
      "2 x 9 = 18\n",
      "2 x 10 = 20\n",
      "\n",
      "Multiplication table for 3 :\n",
      "3 x 1 = 3\n",
      "3 x 2 = 6\n",
      "3 x 3 = 9\n",
      "3 x 4 = 12\n",
      "3 x 5 = 15\n",
      "3 x 6 = 18\n",
      "3 x 7 = 21\n",
      "3 x 8 = 24\n",
      "3 x 9 = 27\n",
      "3 x 10 = 30\n",
      "\n",
      "Multiplication table for 4 :\n",
      "4 x 1 = 4\n",
      "4 x 2 = 8\n",
      "4 x 3 = 12\n",
      "4 x 4 = 16\n",
      "4 x 5 = 20\n",
      "4 x 6 = 24\n",
      "4 x 7 = 28\n",
      "4 x 8 = 32\n",
      "4 x 9 = 36\n",
      "4 x 10 = 40\n",
      "\n",
      "Multiplication table for 5 :\n",
      "5 x 1 = 5\n",
      "5 x 2 = 10\n",
      "5 x 3 = 15\n",
      "5 x 4 = 20\n",
      "5 x 5 = 25\n",
      "5 x 6 = 30\n",
      "5 x 7 = 35\n",
      "5 x 8 = 40\n",
      "5 x 9 = 45\n",
      "5 x 10 = 50\n",
      "\n"
     ]
    }
   ],
   "source": [
    "# nested for loop to generate the multiplication table:\n",
    "for i in range(1,6):\n",
    "    print(f\"Multiplication table for {i} :\")\n",
    "    for j in range(1,11):\n",
    "        result = i*j\n",
    "        print(f\"{i} x {j} = {result}\")\n",
    "    print() #add a blank to separate the tables:"
   ]
  },
  {
   "cell_type": "markdown",
   "id": "c8eee16d-12b0-4540-a17a-d6b0313cd23b",
   "metadata": {},
   "source": [
    "17. Write a program that converts a list of Fahrenheit temperatures to Celsius using a `for` loop."
   ]
  },
  {
   "cell_type": "code",
   "execution_count": 13,
   "id": "3d67eb89-0c20-402b-ad17-1c1e79477878",
   "metadata": {},
   "outputs": [
    {
     "name": "stdout",
     "output_type": "stream",
     "text": [
      "list of fahrenheit : [273, 283, 293]\n",
      "converted to celsius : [133.88888888888889, 139.44444444444446, 145.0]\n"
     ]
    }
   ],
   "source": [
    "# create a list of fahrenheit temperature:\n",
    "fahrenheit = [273,283,293]\n",
    "# use list comprehension to convert fahreheit to celsius:\n",
    "celsius = [(i-32)*5/9 for i in fahrenheit]\n",
    "# print celsius temperature:\n",
    "print(\"list of fahrenheit :\",fahrenheit)\n",
    "print(\"converted to celsius :\",celsius)"
   ]
  },
  {
   "cell_type": "markdown",
   "id": "384d5e67-bc32-4f5d-b7d5-fb9cdbfbd10c",
   "metadata": {},
   "source": [
    "18. Create a program to print the common elements from two lists using a `for` loop."
   ]
  },
  {
   "cell_type": "code",
   "execution_count": 14,
   "id": "86135215-1ca7-4c9b-a964-6832445aa8da",
   "metadata": {},
   "outputs": [
    {
     "name": "stdout",
     "output_type": "stream",
     "text": [
      "common elements in list1 and list2: \n",
      "3 4 5 "
     ]
    }
   ],
   "source": [
    "# Two sample lists:,\n",
    "list1 = [1,2,3,4,5]\n",
    "list2 = [3,4,5,6,7]\n",
    "#Initialize a list to store common elemnts;\n",
    "common_elements = []\n",
    "# use a for loop to find common elemnts:\n",
    "for i1 in list1:\n",
    "    for i2 in list2:\n",
    "        if i1 == i2:\n",
    "            common_elements.append(i1)\n",
    "            \n",
    "#print the common elements:\n",
    "if common_elements:\n",
    "    print(\"common elements in list1 and list2: \")\n",
    "    for element in common_elements:\n",
    "        print(element,end = ' ')\n",
    "else:\n",
    "    print(\"There are no common elements between list1 and list2.\")"
   ]
  },
  {
   "cell_type": "markdown",
   "id": "b52185ee-53a5-43e4-8992-e9d7882ab5fb",
   "metadata": {},
   "source": [
    "19. Develop a program that prints the pattern of right-angled triangles using a `for` loop. Use ‘*’ to draw the\n",
    "pattern"
   ]
  },
  {
   "cell_type": "code",
   "execution_count": 15,
   "id": "b76b5394-69af-420f-861f-1bf414bf097b",
   "metadata": {},
   "outputs": [
    {
     "name": "stdout",
     "output_type": "stream",
     "text": [
      "* \n",
      "* * \n",
      "* * * \n",
      "* * * * \n",
      "* * * * * \n"
     ]
    }
   ],
   "source": [
    "# Define the number of rows for the pattern:\n",
    "num_rows = 5\n",
    "\n",
    "#use nested for loops to print the pattern:\n",
    "for i in range(1,num_rows + 1):\n",
    "    for j in range(i):\n",
    "        print('*',end = ' ')\n",
    "    print()"
   ]
  },
  {
   "cell_type": "markdown",
   "id": "97d762db-6bac-494d-9cbf-14b356cb3f76",
   "metadata": {},
   "source": [
    "20. Write a program to find the greatest common divisor (GCD) of two numbers using a `for` loop."
   ]
  },
  {
   "cell_type": "code",
   "execution_count": 19,
   "id": "6e6428d3-1475-4551-9ac3-97317d1d4933",
   "metadata": {},
   "outputs": [
    {
     "name": "stdin",
     "output_type": "stream",
     "text": [
      "Enter the first number: 10\n",
      "Enter the second number : 3\n"
     ]
    },
    {
     "name": "stdout",
     "output_type": "stream",
     "text": [
      "The greatest common divisor (GCD) of 10 and 3 is 1\n"
     ]
    }
   ],
   "source": [
    "# Input two numbers:\n",
    "num1 = int(input(\"Enter the first number:\"))\n",
    "num2 = int(input(\"Enter the second number :\"))\n",
    "\n",
    "# Find the minimum of the two numbers;\n",
    "min_num = min(num1,num2)\n",
    "\n",
    "# Initialize the GCD varibles to 1 (as 1 is always acommon divisoe)\n",
    "gcd = 1\n",
    "\n",
    "# use a for loop to find the GCD:\n",
    "for i in range(1,min_num + 1):\n",
    "    if num1 % i == 0 and num2 % i == 0:\n",
    "        gcd = i\n",
    "        \n",
    "    #print the GCD:\n",
    "print(f\"The greatest common divisor (GCD) of {num1} and {num2} is {gcd}\")"
   ]
  },
  {
   "cell_type": "markdown",
   "id": "1caac53a-9815-4864-bece-61be4e9ca94f",
   "metadata": {},
   "source": [
    "Advance level questions:"
   ]
  },
  {
   "cell_type": "markdown",
   "id": "a907c6b2-5f99-40cd-8fc9-0fc6a8001646",
   "metadata": {},
   "source": [
    "21. Create a program that calculates the sum of the digits of numbers in a list using a list comprehension."
   ]
  },
  {
   "cell_type": "code",
   "execution_count": 20,
   "id": "c3282c15-63fc-4a78-b7ac-300d3af9e1b3",
   "metadata": {},
   "outputs": [
    {
     "name": "stdout",
     "output_type": "stream",
     "text": [
      "sum of digits for each number:\n",
      "Number : 123,Sum of digits : 6\n",
      "Number : 466,Sum of digits : 16\n",
      "Number : 789,Sum of digits : 24\n",
      "Number : 101,Sum of digits : 2\n"
     ]
    }
   ],
   "source": [
    "# Input list of numbers :\n",
    "numbers = [123,466,789,101]\n",
    "#Define a list comprehension to claculate the sum of digits for each number:\n",
    "digit_sums = [sum(int(digit) for digit in str(number)) for number in numbers]\n",
    "\n",
    "# print the list of digits sum:\n",
    "print(\"sum of digits for each number:\")\n",
    "for i in range(len(numbers)):\n",
    "    print(f\"Number : {numbers[i]},Sum of digits : {digit_sums[i]}\")"
   ]
  },
  {
   "cell_type": "markdown",
   "id": "6b7d1c84-68ee-400e-8812-6998d15ec520",
   "metadata": {},
   "source": [
    "22. Write a program to find the prime factors of a given number using a `for` loop and list comprehension."
   ]
  },
  {
   "cell_type": "code",
   "execution_count": 22,
   "id": "314cdced-8d09-4975-9cfd-4b0bc4ccef9b",
   "metadata": {},
   "outputs": [
    {
     "name": "stdin",
     "output_type": "stream",
     "text": [
      "Enter a number :  7\n"
     ]
    },
    {
     "name": "stdout",
     "output_type": "stream",
     "text": [
      "The prime factors of 7 are : [7]\n"
     ]
    }
   ],
   "source": [
    "# input number:\n",
    "num = int(input(\"Enter a number : \"))\n",
    "\n",
    "#find prime factors using list comprehension and for loop:\n",
    "prime_factors = [x for x in range(2,num + 1) if num % x == 0 and all(x % i !=0 for i in range(2,int(x**0.5) + 1))]\n",
    "\n",
    "#print the prime factors:\n",
    "if prime_factors:\n",
    "    print(f\"The prime factors of {num} are : {prime_factors}\")\n",
    "else:\n",
    "    print(f\"{num} has no prime factors other than 1 and itself.\")"
   ]
  },
  {
   "cell_type": "markdown",
   "id": "8eeb434a-7f96-49d9-860c-5ab465968bdb",
   "metadata": {},
   "source": [
    "23. Develop a program that extracts unique elements from a list and stores them in a new list using a list\n",
    "comprehension."
   ]
  },
  {
   "cell_type": "code",
   "execution_count": 23,
   "id": "81279379-b8bb-4798-9ccb-e57a9b26ba22",
   "metadata": {},
   "outputs": [
    {
     "name": "stdout",
     "output_type": "stream",
     "text": [
      "[1, 2, 3, 4, 5, 6]\n"
     ]
    }
   ],
   "source": [
    "# input list with duplicates:\n",
    "input_list = [1,2,2,3,4,4,5,6,6]\n",
    "#use a list comprehension to extract unique elemenys:\n",
    "unique_ele = [x for i, x in enumerate(input_list) if x not in input_list[:i]]\n",
    "\n",
    "# print the list of unique elements:\n",
    "print(unique_ele)"
   ]
  },
  {
   "cell_type": "markdown",
   "id": "953e627b-b254-45ec-9716-f21ae5a7a9df",
   "metadata": {},
   "source": [
    "24. Create a program that generates a list of all palindromic numbers up to a specified limit using a list\n",
    "comprehension."
   ]
  },
  {
   "cell_type": "code",
   "execution_count": 24,
   "id": "244196c7-e566-4df0-8c86-542bb77b2dfb",
   "metadata": {},
   "outputs": [
    {
     "name": "stdin",
     "output_type": "stream",
     "text": [
      "Enter the limit for palindromic numbers:  36\n"
     ]
    },
    {
     "name": "stdout",
     "output_type": "stream",
     "text": [
      "Palindromic numbers up to 36 are: [1, 2, 3, 4, 5, 6, 7, 8, 9, 11, 22, 33]\n"
     ]
    }
   ],
   "source": [
    "# input limit for palindromic numbers:\n",
    "limit = int(input(\"Enter the limit for palindromic numbers: \"))\n",
    "\n",
    "# use a list comprehension to generate palindromic numbers:\n",
    "palindromic_numbers = [num for num in range(1,limit + 1) if str(num) == str(num)[::-1]]\n",
    "\n",
    "# print the list of palindromic numbers:\n",
    "print(\"Palindromic numbers up to\",limit,\"are:\",palindromic_numbers)"
   ]
  },
  {
   "cell_type": "markdown",
   "id": "8959eab6-d5c3-4766-ab11-9eb026984151",
   "metadata": {},
   "source": [
    "25. Write a program to flatten a nested list using list comprehension."
   ]
  },
  {
   "cell_type": "code",
   "execution_count": 1,
   "id": "0cb9e42e-4f90-4f92-91a3-09ea3e05a57b",
   "metadata": {},
   "outputs": [
    {
     "name": "stdout",
     "output_type": "stream",
     "text": [
      "original nested list : [[1, 2, 3], [4, 5], [6, 7, 8]]\n",
      "Flattened list : [1, 2, 3, 4, 5, 6, 7, 8]\n"
     ]
    }
   ],
   "source": [
    "# Nested list:\n",
    "nested_list = [[1,2,3],[4,5],[6,7,8]]\n",
    " # Flatten the nested list using list comprehension:\n",
    "flattened_list = [element for sublist in nested_list for element in sublist]\n",
    "    #print the flattened list:\n",
    "print(\"original nested list :\",nested_list)\n",
    "print(\"Flattened list :\",flattened_list)"
   ]
  },
  {
   "cell_type": "markdown",
   "id": "7973ab59-7901-4751-8a51-05bf460dfcd7",
   "metadata": {},
   "source": [
    "26. Develop a program that computes the sum of even and odd numbers in a list separately using list\n",
    "comprehension."
   ]
  },
  {
   "cell_type": "code",
   "execution_count": 4,
   "id": "5ecab964-ce12-414c-82c0-4827d46cb33b",
   "metadata": {},
   "outputs": [
    {
     "name": "stdout",
     "output_type": "stream",
     "text": [
      "original list : [1, 2, 3, 4, 5, 6, 7, 8, 9]\n",
      "Even numbers: [2, 4, 6, 8]\n",
      "odd numbers : [1, 3, 5, 7, 9]\n",
      "Sum of even numbers : 20\n",
      "Sum of odd numbers : [1, 3, 5, 7, 9]\n"
     ]
    }
   ],
   "source": [
    "#list \n",
    "numbers = [1,2,3,4,5,6,7,8,9]\n",
    "# use list comprehension:\n",
    "even_num = [x for x in numbers if x%2 == 0]\n",
    "odd_num = [x for x in numbers if x%2 != 0]\n",
    "\n",
    "#calculate sum:\n",
    "sum_even = sum(even_num)\n",
    "sum_odd = sum(odd_num)\n",
    "\n",
    "#print the sums:\n",
    "print(\"original list :\",numbers)\n",
    "print(\"Even numbers:\",even_num)\n",
    "print(\"odd numbers :\",odd_num)\n",
    "print(\"Sum of even numbers :\",sum_even)\n",
    "print(\"Sum of odd numbers :\",odd_num)"
   ]
  },
  {
   "cell_type": "markdown",
   "id": "cf9685dc-8e92-4539-a07a-a18a29dd939a",
   "metadata": {},
   "source": [
    "27. Create a program that generates a list of squares of odd numbers between 1 and 10 using list\n",
    "comprehension."
   ]
  },
  {
   "cell_type": "code",
   "execution_count": 5,
   "id": "767f3459-4ece-4624-befa-e9dca398866e",
   "metadata": {},
   "outputs": [
    {
     "name": "stdout",
     "output_type": "stream",
     "text": [
      "Squares of add numbers between 1 and 10: [1, 9, 25, 49, 81]\n"
     ]
    }
   ],
   "source": [
    "# use list comprehension:\n",
    "squares_odd = [x**2 for x in range(1,11) if x%2 != 0]\n",
    "\n",
    "#print the list of squares:\n",
    "print(\"Squares of add numbers between 1 and 10:\",squares_odd)"
   ]
  },
  {
   "cell_type": "markdown",
   "id": "d4e499ee-7242-405d-bc05-1ddafc462d15",
   "metadata": {},
   "source": [
    "28. Write a program that combines two lists into a dictionary using list comprehension."
   ]
  },
  {
   "cell_type": "code",
   "execution_count": 6,
   "id": "b652eae0-aea7-41aa-84c3-c2fd0e87fa8d",
   "metadata": {},
   "outputs": [
    {
     "name": "stdout",
     "output_type": "stream",
     "text": [
      "Combined dictionary : {'a': 1, 'b': 2, 'c': 3}\n"
     ]
    }
   ],
   "source": [
    "# Two lists of keys and values:'\n",
    "keys = ['a','b','c']\n",
    "values = [1,2,3]\n",
    "\n",
    "# combine the two lists into a dictionary using list comprehension:\n",
    "combined_dict = {key: value for key,value in zip(keys,values)}\n",
    "\n",
    "# Print the resulting dictionary:\n",
    "print(\"Combined dictionary :\",combined_dict)"
   ]
  },
  {
   "cell_type": "markdown",
   "id": "1ed55415-688d-4d7d-85a1-fea7715e9241",
   "metadata": {},
   "source": [
    "29. Develop a program that extracts the vowels from a string and stores them in a list using list comprehension."
   ]
  },
  {
   "cell_type": "code",
   "execution_count": 7,
   "id": "1961c9df-5086-4014-a2f9-cc8834c33b4e",
   "metadata": {},
   "outputs": [
    {
     "name": "stdin",
     "output_type": "stream",
     "text": [
      "Enter a string here : naitik mehta\n"
     ]
    },
    {
     "name": "stdout",
     "output_type": "stream",
     "text": [
      "['a', 'i', 'i', 'e', 'a']\n"
     ]
    }
   ],
   "source": [
    "# input string\n",
    "string = input(\"Enter a string here :\")\n",
    "vowels = [i for i in string if i in 'aeiou']\n",
    "print(vowels)"
   ]
  },
  {
   "cell_type": "markdown",
   "id": "1cbba82d-b206-4954-b216-18eed820d7c5",
   "metadata": {},
   "source": [
    "30. Create a program that removes all non-numeric characters from a list of strings using list comprehension."
   ]
  },
  {
   "cell_type": "code",
   "execution_count": 8,
   "id": "54d0146f-c27e-45e1-bcbb-3f5bd4b17ddf",
   "metadata": {},
   "outputs": [
    {
     "name": "stdout",
     "output_type": "stream",
     "text": [
      "original list of strings: ['abc123', 'xyz456', '123def', '789']\n",
      "List of numeric strings : ['1 2 3', '4 5 6', '1 2 3', '7 8 9']\n"
     ]
    }
   ],
   "source": [
    "# Input lists of strings:\n",
    "strings = [\"abc123\",\"xyz456\",\"123def\",\"789\"]\n",
    "\n",
    "# use list comprehension :\n",
    "numeric_string = [' '.join(char for char in string if char.isdigit()) for string in strings]\n",
    "\n",
    "# print the list :\n",
    "print(\"original list of strings:\",strings)\n",
    "print(\"List of numeric strings :\",numeric_string)"
   ]
  },
  {
   "cell_type": "markdown",
   "id": "f85a2294-6117-4c7a-be76-5e8f2d48ad47",
   "metadata": {},
   "source": [
    "Challenge Level:"
   ]
  },
  {
   "cell_type": "markdown",
   "id": "ece9d777-ff48-4814-9e41-221d858593a4",
   "metadata": {},
   "source": [
    "31. Write a program to generate a list of prime numbers using the Sieve of Eratosthenes algorithm and list\n",
    "comprehension."
   ]
  },
  {
   "cell_type": "code",
   "execution_count": 9,
   "id": "bdb01a32-4723-4a4a-b8d3-c5b9367b25a2",
   "metadata": {},
   "outputs": [
    {
     "name": "stdin",
     "output_type": "stream",
     "text": [
      "Enter the limit for generating prime numbers:  9\n"
     ]
    },
    {
     "name": "stdout",
     "output_type": "stream",
     "text": [
      "Prime numbers up to 9 are: [5, 7]\n"
     ]
    }
   ],
   "source": [
    "# Input limit for generating prime numbers:\n",
    "limit = int(input(\"Enter the limit for generating prime numbers: \"))\n",
    "\n",
    "#Create a list to reoresent numbers from 2 to the limit :\n",
    "numbers = [True] * (limit + 1)\n",
    "numbers[0] = numbers[1] = False\n",
    "\n",
    "# Use the Sieve of Eratosthenes algorithm to mark non-prime numbers:\n",
    "for i in range(2,int(limit**0.5) + 1):\n",
    "    if numbers[i]:\n",
    "        for j in range(i**2,limit+1,i):\n",
    "            numbers[j] = False\n",
    "            \n",
    "# Generate a list of prime numbers using list comprehension:\n",
    "prime_numbers = [i for i ,is_prime in enumerate(numbers) if is_prime]\n",
    "\n",
    "# Remove 0 and 1 from the list of prime numbers:\n",
    "prime_numbers = prime_numbers[2:]\n",
    "\n",
    "# Print the list of prime numbers:\n",
    "print(\"Prime numbers up to\",limit,\"are:\",prime_numbers)\n",
    "    "
   ]
  },
  {
   "cell_type": "markdown",
   "id": "9a9e1799-87db-4fc8-888f-09e1a43dd9cb",
   "metadata": {},
   "source": [
    "32. Create a program that generates a list of all Pythagorean triplets up to a specified limit using list\n",
    "comprehension."
   ]
  },
  {
   "cell_type": "code",
   "execution_count": 10,
   "id": "b0f935e3-2d68-4f06-b0c2-8184278f925f",
   "metadata": {},
   "outputs": [
    {
     "name": "stdin",
     "output_type": "stream",
     "text": [
      "Enter the limit for generating pythagorean triplets: 6\n"
     ]
    },
    {
     "name": "stdout",
     "output_type": "stream",
     "text": [
      "Pythagorean triplets up to 6 are: [(3, 4, 5)]\n"
     ]
    }
   ],
   "source": [
    "#  input limit for generating Pythagoren triplets:\n",
    "limit = int(input(\"Enter the limit for generating pythagorean triplets:\"))\n",
    "\n",
    "# use list comprehension to generate pythagoren triplets:\n",
    "pythagorean_triplets = [(a,b,c) for a in range(1,limit + 1)\n",
    "                        for b in range(a,limit+1)\n",
    "                        for c in range(b,limit+1)\n",
    "                        if a**2 + b**2 == c**2]\n",
    "\n",
    "#Print the list of Pythagorean triplets :\n",
    "print(\"Pythagorean triplets up to\",limit,\"are:\",pythagorean_triplets)"
   ]
  },
  {
   "cell_type": "markdown",
   "id": "703fab8c-5dc4-4027-9b91-a66463b3aa1a",
   "metadata": {},
   "source": [
    "33. Develop a program that generates a list of all possible combinations of two lists using list comprehension."
   ]
  },
  {
   "cell_type": "code",
   "execution_count": 11,
   "id": "67f09074-d10f-442d-9351-39878923a6e7",
   "metadata": {},
   "outputs": [
    {
     "name": "stdout",
     "output_type": "stream",
     "text": [
      "All possible combinations of two lists:\n",
      "(1, 'a')\n",
      "(1, 'b')\n",
      "(2, 'a')\n",
      "(2, 'b')\n",
      "(3, 'a')\n",
      "(3, 'b')\n"
     ]
    }
   ],
   "source": [
    "# Input lists\n",
    "list1 = [1,2,3]\n",
    "list2 = ['a','b']\n",
    "\n",
    "#Use list comprehension to generate all possible combinations:\n",
    "combinations = [(x,y) for x in list1 for y in list2]\n",
    "\n",
    "#Print the list of combinations:\n",
    "print(\"All possible combinations of two lists:\")\n",
    "for combination in combinations:\n",
    "    print(combination)"
   ]
  },
  {
   "cell_type": "markdown",
   "id": "d2ce276a-7ad8-42d1-97c7-552ce9b72d4e",
   "metadata": {},
   "source": [
    "34. Write a program that calculates the mean, median, and mode of a list of numbers using list\n",
    "comprehension."
   ]
  },
  {
   "cell_type": "code",
   "execution_count": 13,
   "id": "480f4a00-694a-4185-96a5-0260dcbdd6d4",
   "metadata": {},
   "outputs": [
    {
     "name": "stdout",
     "output_type": "stream",
     "text": [
      "Mean: 4.4\n",
      "Median: 4.5\n",
      "Mode [6]\n"
     ]
    }
   ],
   "source": [
    "from collections import Counter\n",
    "\n",
    "# Input list of numbers:\n",
    "numbers = [1,2,3,4,4,5,6,6,6,7]\n",
    "\n",
    "# Calculate the Mean using list comprehension:\n",
    "mean = sum(numbers)/len(numbers)\n",
    "\n",
    "#Calculate the Median using list comprehension:\n",
    "sorted_numbers = sorted(numbers)\n",
    "n = len(sorted_numbers)\n",
    "median = (sorted_numbers[n//2] + sorted_numbers[(n-1)//2]) /2\n",
    "\n",
    "# Calculate the Mode using list comprehension:\n",
    "count_dict = Counter(numbers)\n",
    "max_count = max(count_dict.values())\n",
    "mode = [key for key , value in count_dict.items() if value == max_count]\n",
    "\n",
    "# Print the Mean,Median,MOde:\n",
    "print(\"Mean:\",mean)\n",
    "print(\"Median:\",median)\n",
    "print(\"Mode\",mode)"
   ]
  },
  {
   "cell_type": "markdown",
   "id": "e5339a99-1057-41ea-899a-3ac26697acfa",
   "metadata": {},
   "source": [
    "35. Create a program that generates Pascal's triangle up to a specified number of rows using list\n",
    "comprehension."
   ]
  },
  {
   "cell_type": "code",
   "execution_count": 16,
   "id": "a008b2b6-e61c-40ac-94a2-4520e6452f87",
   "metadata": {},
   "outputs": [
    {
     "name": "stdin",
     "output_type": "stream",
     "text": [
      "Enter the number of rows for Pascals triangle:  10\n"
     ]
    },
    {
     "name": "stdout",
     "output_type": "stream",
     "text": [
      "Pascal's Triangle:\n",
      "[1]\n",
      "[1, 1]\n",
      "[1, 2, 1]\n",
      "[1, 3, 3, 1]\n",
      "[1, 4, 6, 4, 1]\n",
      "[1, 5, 10, 10, 5, 1]\n",
      "[1, 6, 15, 20, 15, 6, 1]\n",
      "[1, 7, 21, 35, 35, 21, 7, 1]\n",
      "[1, 8, 28, 56, 70, 56, 28, 8, 1]\n",
      "[1, 9, 36, 84, 126, 126, 84, 36, 9, 1]\n"
     ]
    }
   ],
   "source": [
    "def generate_pascals_triangle(num_rows):\n",
    "    if num_rows <= 0:\n",
    "        return []\n",
    "    \n",
    "    # Initialize Pascals triangle with the first row:\n",
    "    triangle = [[1]]\n",
    "    \n",
    "    # generate the remaining rows of Pascals triangle:\n",
    "    for i in range(1,num_rows):\n",
    "        # Use list comprehension to calculate each row:\n",
    "        row = [1] + [triangle[i-1][j-1] + triangle[i-1][j] for j in range(1,i)] + [ 1]\n",
    "        triangle.append(row)\n",
    "        \n",
    "    return triangle\n",
    "# Input the number of rows for Pascals triangle:\n",
    "num_rows = int(input(\"Enter the number of rows for Pascals triangle: \"))\n",
    "\n",
    "# Generate Pascals triangle:\n",
    "pascals_triangle = generate_pascals_triangle(num_rows)\n",
    "\n",
    "# Print Pascals triangle:\n",
    "print(\"Pascal's Triangle:\")\n",
    "for row in pascals_triangle:\n",
    "    print(row)"
   ]
  },
  {
   "cell_type": "markdown",
   "id": "f46d5edc-3938-4ec3-b7c1-f3408917209e",
   "metadata": {},
   "source": [
    "36. Develop a program that calculates the sum of the digits of a factorial of numbers from 1 to 5 using list\n",
    "comprehension."
   ]
  },
  {
   "cell_type": "code",
   "execution_count": 17,
   "id": "95d49d6d-19e8-469f-8d3d-9e503c7fba38",
   "metadata": {},
   "outputs": [
    {
     "name": "stdout",
     "output_type": "stream",
     "text": [
      "Factorial of 1 : 1\n",
      "sum of digits: 1\n",
      "\n",
      "Factorial of 2 : 2\n",
      "sum of digits: 2\n",
      "\n",
      "Factorial of 3 : 6\n",
      "sum of digits: 6\n",
      "\n",
      "Factorial of 4 : 24\n",
      "sum of digits: 6\n",
      "\n",
      "Factorial of 5 : 120\n",
      "sum of digits: 3\n",
      "\n"
     ]
    }
   ],
   "source": [
    "# Function to calculate the factorial of two numbers:\n",
    "def factorial(n):\n",
    "    if n == 0 or n == 1:\n",
    "        return 1\n",
    "    else:\n",
    "        return n*factorial(n-1)\n",
    "# calculate the factorials of numbers from 1 to 5 using list comprehension:\n",
    "factorials = [factorial(i) for i in range(1,6)]\n",
    "\n",
    "#calculate the sum of digits of each factorial using list comprehension:\n",
    "sum_of_digits = [sum(int(digit) for digit in str(factorial)) for factorial in factorials ]\n",
    "\n",
    "#print the results:\n",
    "for i, factorial in enumerate(factorials,start =1):\n",
    "    print(f\"Factorial of {i} :\",factorial)\n",
    "    print(f\"sum of digits:\",sum_of_digits[i-1])\n",
    "    \n",
    "    print()"
   ]
  },
  {
   "cell_type": "markdown",
   "id": "207020a0-0734-4106-80d7-f8642b6c5d96",
   "metadata": {},
   "source": [
    "37. Write a program that finds the longest word in a sentence using list comprehension."
   ]
  },
  {
   "cell_type": "code",
   "execution_count": 18,
   "id": "9e4e217d-00fd-4161-a006-59c9dba052e1",
   "metadata": {},
   "outputs": [
    {
     "name": "stdin",
     "output_type": "stream",
     "text": [
      "Enter a sentence:  python for data science\n"
     ]
    },
    {
     "name": "stdout",
     "output_type": "stream",
     "text": [
      "NO words found in the sentence.\n"
     ]
    }
   ],
   "source": [
    "# Input sentence:\n",
    "sentence = input(\"Enter a sentence: \")\n",
    "\n",
    "# Split the sentence into words:\n",
    "words = sentence.split()\n",
    "\n",
    "# use list comprehension to find the longest word:\n",
    "longest_words = [word for word in words if len(word) == max((word)) for word in words ]\n",
    "\n",
    "# Print the longest word:\n",
    "if longest_words:\n",
    "    if len(longest_words) == 1:\n",
    "        print(\"THe longest word is:\",longest_words[0])\n",
    "    else:\n",
    "        print(\"The longest words are :\",','.join(longest_words))\n",
    "else:\n",
    "    print(\"NO words found in the sentence.\")"
   ]
  },
  {
   "cell_type": "markdown",
   "id": "683199db-f6ae-4ef9-a36e-a92974d5f51a",
   "metadata": {},
   "source": [
    "38. Create a program that filters a list of strings to include only those with more than three vowels using list\n",
    "comprehension."
   ]
  },
  {
   "cell_type": "code",
   "execution_count": 20,
   "id": "5114fcec-9591-469c-b46e-8e5b0580876d",
   "metadata": {},
   "outputs": [
    {
     "name": "stdout",
     "output_type": "stream",
     "text": [
      "original list of strings: ['Anmol', 'and', 'pw', 'skills', 'education']\n",
      "Filtered list with more than three vowels: ['education']\n"
     ]
    }
   ],
   "source": [
    "# input string:\n",
    "strings = [\"Anmol\",\"and\",\"pw\",\"skills\",\"education\"]\n",
    "# function to count the vowels:\n",
    "def count_vowels(string):\n",
    "    vowels = \"AaEeIiOoUu\"\n",
    "    return sum(1 for char in string if char in vowels)\n",
    "# use list comprehension to filter strings with more than three vowels:\n",
    "filtered_strings  =  [string for string in strings if count_vowels(string) > 3]\n",
    "                                                        \n",
    "# Print the filtered list:\n",
    "print(\"original list of strings:\",strings)\n",
    "print(\"Filtered list with more than three vowels:\",filtered_strings)   "
   ]
  },
  {
   "cell_type": "markdown",
   "id": "36355069-5b85-4831-82cb-ce3f8e9771b0",
   "metadata": {},
   "source": [
    "39. Develop a program that calculates the sum of the digits of numbers from 1 to 1000 using list\n",
    "comprehension."
   ]
  },
  {
   "cell_type": "code",
   "execution_count": 21,
   "id": "ddbd79be-a888-4614-b423-96c9c8c54dfe",
   "metadata": {},
   "outputs": [
    {
     "name": "stdout",
     "output_type": "stream",
     "text": [
      "The sum of digits from 1 to 1000 :  13501\n"
     ]
    }
   ],
   "source": [
    "# use list comprehension to calculate the sum of digits :\n",
    "sum_of_digits = [sum(int(digit) for digit in str(num)) for num in range(1,1001)]\n",
    "# calculate the total sum:\n",
    "total_sum = sum(sum_of_digits)\n",
    "print(\"The sum of digits from 1 to 1000 : \" ,total_sum)"
   ]
  },
  {
   "cell_type": "markdown",
   "id": "87cbfadc-06a7-4628-a431-f923d6972159",
   "metadata": {},
   "source": [
    "40. Write a program that generates a list of prime palindromic numbers using list comprehension."
   ]
  },
  {
   "cell_type": "code",
   "execution_count": 22,
   "id": "f3295bce-2141-4236-a049-8de687e8afe7",
   "metadata": {},
   "outputs": [
    {
     "name": "stdout",
     "output_type": "stream",
     "text": [
      "Prime palindromic numbers from 1 to 1000 : [2, 3, 5, 7, 11, 101, 131, 151, 181, 191, 313, 353, 373, 383, 727, 757, 787, 797, 919, 929]\n"
     ]
    }
   ],
   "source": [
    "# Function to check if a number is prime:\n",
    "def is_prime(n):\n",
    "    if n<= 1:\n",
    "        return False\n",
    "    if n <=3:\n",
    "        return True\n",
    "    if n % 2 == 0 or n%3==0:\n",
    "        return False\n",
    "    i = 5\n",
    "    while i*i <= n:\n",
    "        if n%i == 0 or n%(i+2) == 0:\n",
    "            return False\n",
    "        i += 6\n",
    "    return True\n",
    "\n",
    "# use list comprehension to generate prime palindromic numbers:\n",
    "prime_palindromic_numbers = [num for num in range(1,1001) if str(num) == str(num)[::-1] and is_prime(num)]\n",
    "\n",
    "# print the list of primwe palindromic numbers:\n",
    "print(\"Prime palindromic numbers from 1 to 1000 :\",prime_palindromic_numbers)"
   ]
  },
  {
   "cell_type": "code",
   "execution_count": null,
   "id": "3f01e0b7-5ddf-4ca9-9a15-6339287dbcb6",
   "metadata": {},
   "outputs": [],
   "source": []
  }
 ],
 "metadata": {
  "kernelspec": {
   "display_name": "Python 3 (ipykernel)",
   "language": "python",
   "name": "python3"
  },
  "language_info": {
   "codemirror_mode": {
    "name": "ipython",
    "version": 3
   },
   "file_extension": ".py",
   "mimetype": "text/x-python",
   "name": "python",
   "nbconvert_exporter": "python",
   "pygments_lexer": "ipython3",
   "version": "3.10.8"
  }
 },
 "nbformat": 4,
 "nbformat_minor": 5
}
